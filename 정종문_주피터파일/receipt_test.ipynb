{
 "cells": [
  {
   "cell_type": "code",
   "execution_count": null,
   "metadata": {},
   "outputs": [],
   "source": [
    "import util.receipt as ur\n",
    "\n",
    "# str로 변환된 영수증\n",
    "receipt_data = '''\n",
    "이마트 청계천절(0212290-1234\n",
    "06030 【  208-80-60013 이갑수\n",
    "서울시 종구 청계천로 400\n",
    "영수증 미지참시 교환/환불 불가(30일내)\n",
    "환불 구매점에서 가능(결제키느시잠)\n",
    "체크키드 취소 시 대금환급은 최대 7일소요\n",
    "\n",
    "2014206004 11113       60005\n",
    "\n",
    "미 (0)치킨 너켓 19      10,500\n",
    "02 용가리치킨520+140      8.550\n",
    "03 대림 안심지킨너540  7,980\n",
    "04 치리 기슴살치킨너켓  5,990\n",
    "수실류-호두\n",
    "호두\n",
    "너겟\n",
    "가슬살\n",
    "치킨\n",
    "자몽\n",
    "\n",
    "7.80\n",
    "\n",
    "부기세 면세 품목입니다.\n",
    "\n",
    "0088.000\n",
    "'''\n",
    "\n",
    "# 영수증 데이터를 입력하시면\n",
    "# 샀던 품목 중 그린카드를 썼다면 얻을 수 있었던 포인트 합을 알려드려요.\n",
    "\n",
    "ur.receipt_get_point(receipt_data)"
   ]
  }
 ],
 "metadata": {
  "kernelspec": {
   "display_name": "base",
   "language": "python",
   "name": "python3"
  },
  "language_info": {
   "name": "python",
   "version": "3.11.5"
  }
 },
 "nbformat": 4,
 "nbformat_minor": 2
}
