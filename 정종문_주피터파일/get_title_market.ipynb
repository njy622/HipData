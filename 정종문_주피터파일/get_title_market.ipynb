{
 "cells": [
  {
   "cell_type": "markdown",
   "metadata": {},
   "source": [
    "## 입력한 상품을 취급하는 매장 3곳 찾기"
   ]
  },
  {
   "cell_type": "code",
   "execution_count": 83,
   "metadata": {},
   "outputs": [],
   "source": [
    "import pandas as pd\n",
    "from sklearn.feature_extraction.text import TfidfVectorizer\n",
    "from sklearn.metrics.pairwise import cosine_similarity"
   ]
  },
  {
   "cell_type": "code",
   "execution_count": 104,
   "metadata": {},
   "outputs": [],
   "source": [
    "# 상품명\n",
    "title = '무'"
   ]
  },
  {
   "cell_type": "code",
   "execution_count": 105,
   "metadata": {},
   "outputs": [
    {
     "data": {
      "text/html": [
       "<div>\n",
       "<style scoped>\n",
       "    .dataframe tbody tr th:only-of-type {\n",
       "        vertical-align: middle;\n",
       "    }\n",
       "\n",
       "    .dataframe tbody tr th {\n",
       "        vertical-align: top;\n",
       "    }\n",
       "\n",
       "    .dataframe thead th {\n",
       "        text-align: right;\n",
       "    }\n",
       "</style>\n",
       "<table border=\"1\" class=\"dataframe\">\n",
       "  <thead>\n",
       "    <tr style=\"text-align: right;\">\n",
       "      <th></th>\n",
       "      <th>title</th>\n",
       "      <th>point</th>\n",
       "      <th>market</th>\n",
       "      <th>title_mod</th>\n",
       "    </tr>\n",
       "  </thead>\n",
       "  <tbody>\n",
       "    <tr>\n",
       "      <th>0</th>\n",
       "      <td>수실류-은행</td>\n",
       "      <td>10</td>\n",
       "      <td>로컬푸드 직매장</td>\n",
       "      <td>수실류은행</td>\n",
       "    </tr>\n",
       "    <tr>\n",
       "      <th>1</th>\n",
       "      <td>수실류-호두</td>\n",
       "      <td>10</td>\n",
       "      <td>로컬푸드 직매장</td>\n",
       "      <td>수실류호두</td>\n",
       "    </tr>\n",
       "    <tr>\n",
       "      <th>2</th>\n",
       "      <td>수실류-대추</td>\n",
       "      <td>10</td>\n",
       "      <td>로컬푸드 직매장</td>\n",
       "      <td>수실류대추</td>\n",
       "    </tr>\n",
       "  </tbody>\n",
       "</table>\n",
       "</div>"
      ],
      "text/plain": [
       "    title  point    market title_mod\n",
       "0  수실류-은행     10  로컬푸드 직매장     수실류은행\n",
       "1  수실류-호두     10  로컬푸드 직매장     수실류호두\n",
       "2  수실류-대추     10  로컬푸드 직매장     수실류대추"
      ]
     },
     "execution_count": 105,
     "metadata": {},
     "output_type": "execute_result"
    }
   ],
   "source": [
    "# 비교 데이터프레임 호출\n",
    "list_df = pd.read_csv('../data/eco_product.csv')\n",
    "list_df.head(3)"
   ]
  },
  {
   "cell_type": "code",
   "execution_count": 106,
   "metadata": {},
   "outputs": [],
   "source": [
    "# 찾는 품목이 '무' 또는 '김'처럼 한 글자일 경우\n",
    "# TfidfVectorizer의 Default 값으로 한 글자 단어는 제외하게 되어있으므로\n",
    "# 하이퍼 파라미터로 해결 23.10.25\n",
    "\n",
    "title = [title.strip(' ')]\n",
    "\n",
    "# 찾는 품목이 한 글자 단어일 경우\n",
    "if len(title[0]) == 1:\n",
    "    # TF-IDF 벡터화\n",
    "    tv = TfidfVectorizer(analyzer='word', token_pattern=r'\\w{1,}')\n",
    "    title_tv = tv.fit_transform(title).toarray()\n",
    "# 찾는 품목이 두 글자 이상일 경우\n",
    "else:\n",
    "    # 데이터프레임 화\n",
    "    title_df = pd.DataFrame(title, columns=['title'])\n",
    "    # TF-IDF 벡터화\n",
    "    tv = TfidfVectorizer()\n",
    "    title_tv = tv.fit_transform(title_df['title'])\n",
    "\n",
    "# 품목 리스트 TF-IDF 벡터화\n",
    "list_tv = tv.transform(list_df['title'])"
   ]
  },
  {
   "cell_type": "code",
   "execution_count": 107,
   "metadata": {},
   "outputs": [
    {
     "data": {
      "text/plain": [
       "array([[0., 0., 0., ..., 0., 0., 0.]])"
      ]
     },
     "execution_count": 107,
     "metadata": {},
     "output_type": "execute_result"
    }
   ],
   "source": [
    "# 코사인 유사도 계산\n",
    "cosine_similarities = cosine_similarity(title_tv, list_tv)\n",
    "cosine_similarities"
   ]
  },
  {
   "cell_type": "code",
   "execution_count": 108,
   "metadata": {},
   "outputs": [],
   "source": [
    "# 유사도 컬럼으로 추가\n",
    "list_df['cosine_similarity'] = cosine_similarities.reshape(-1,1)"
   ]
  },
  {
   "cell_type": "code",
   "execution_count": 109,
   "metadata": {},
   "outputs": [
    {
     "data": {
      "text/html": [
       "<div>\n",
       "<style scoped>\n",
       "    .dataframe tbody tr th:only-of-type {\n",
       "        vertical-align: middle;\n",
       "    }\n",
       "\n",
       "    .dataframe tbody tr th {\n",
       "        vertical-align: top;\n",
       "    }\n",
       "\n",
       "    .dataframe thead th {\n",
       "        text-align: right;\n",
       "    }\n",
       "</style>\n",
       "<table border=\"1\" class=\"dataframe\">\n",
       "  <thead>\n",
       "    <tr style=\"text-align: right;\">\n",
       "      <th></th>\n",
       "      <th>title</th>\n",
       "      <th>point</th>\n",
       "      <th>market</th>\n",
       "      <th>title_mod</th>\n",
       "      <th>cosine_similarity</th>\n",
       "    </tr>\n",
       "  </thead>\n",
       "  <tbody>\n",
       "    <tr>\n",
       "      <th>53</th>\n",
       "      <td>무(1kg/무농약/온라인)</td>\n",
       "      <td>120</td>\n",
       "      <td>두레생협</td>\n",
       "      <td>무</td>\n",
       "      <td>1.0</td>\n",
       "    </tr>\n",
       "    <tr>\n",
       "      <th>57</th>\n",
       "      <td>무(김장/5kg/무농약)</td>\n",
       "      <td>350</td>\n",
       "      <td>두레생협</td>\n",
       "      <td>무</td>\n",
       "      <td>1.0</td>\n",
       "    </tr>\n",
       "    <tr>\n",
       "      <th>186</th>\n",
       "      <td>친환경 무(개)</td>\n",
       "      <td>170</td>\n",
       "      <td>이마트</td>\n",
       "      <td>친환경 무</td>\n",
       "      <td>1.0</td>\n",
       "    </tr>\n",
       "    <tr>\n",
       "      <th>1780</th>\n",
       "      <td>[친환경]무(친환경/2개/1.4kg이상)</td>\n",
       "      <td>140</td>\n",
       "      <td>올가홀푸드</td>\n",
       "      <td>무</td>\n",
       "      <td>1.0</td>\n",
       "    </tr>\n",
       "    <tr>\n",
       "      <th>2491</th>\n",
       "      <td>근채류-무</td>\n",
       "      <td>1</td>\n",
       "      <td>로컬푸드 직매장</td>\n",
       "      <td>근채류무</td>\n",
       "      <td>1.0</td>\n",
       "    </tr>\n",
       "    <tr>\n",
       "      <th>2573</th>\n",
       "      <td>[김장]무(무농약1개/1.2kg내외)</td>\n",
       "      <td>120</td>\n",
       "      <td>올가홀푸드</td>\n",
       "      <td>무</td>\n",
       "      <td>1.0</td>\n",
       "    </tr>\n",
       "    <tr>\n",
       "      <th>2899</th>\n",
       "      <td>무(친환경/무)1개/랩/특/특품</td>\n",
       "      <td>70</td>\n",
       "      <td>하나로마트</td>\n",
       "      <td>무개랩특특품</td>\n",
       "      <td>1.0</td>\n",
       "    </tr>\n",
       "    <tr>\n",
       "      <th>3865</th>\n",
       "      <td>무(1.5kg이상/무농약)</td>\n",
       "      <td>130</td>\n",
       "      <td>두레생협</td>\n",
       "      <td>무</td>\n",
       "      <td>1.0</td>\n",
       "    </tr>\n",
       "  </tbody>\n",
       "</table>\n",
       "</div>"
      ],
      "text/plain": [
       "                       title  point    market title_mod  cosine_similarity\n",
       "53            무(1kg/무농약/온라인)    120      두레생협         무                1.0\n",
       "57             무(김장/5kg/무농약)    350      두레생협         무                1.0\n",
       "186                 친환경 무(개)    170       이마트     친환경 무                1.0\n",
       "1780  [친환경]무(친환경/2개/1.4kg이상)    140     올가홀푸드         무                1.0\n",
       "2491                   근채류-무      1  로컬푸드 직매장      근채류무                1.0\n",
       "2573    [김장]무(무농약1개/1.2kg내외)    120     올가홀푸드         무                1.0\n",
       "2899       무(친환경/무)1개/랩/특/특품     70     하나로마트    무개랩특특품                1.0\n",
       "3865          무(1.5kg이상/무농약)    130      두레생협         무                1.0"
      ]
     },
     "execution_count": 109,
     "metadata": {},
     "output_type": "execute_result"
    }
   ],
   "source": [
    "# cosine_similarity의 값이 1.0인 경우만 추출\n",
    "list_df = list_df[list_df['cosine_similarity'] == 1.0]\n",
    "list_df"
   ]
  },
  {
   "cell_type": "code",
   "execution_count": 110,
   "metadata": {},
   "outputs": [
    {
     "data": {
      "text/plain": [
       "['두레생협', '이마트', '하나로마트']"
      ]
     },
     "execution_count": 110,
     "metadata": {},
     "output_type": "execute_result"
    }
   ],
   "source": [
    "# 관련된 마켓명\n",
    "global market\n",
    "market = list(set(list_df['market'].values))[:3]\n",
    "if market == []:\n",
    "    print('해당 상품을 취급하는 매장이 없습니다.')\n",
    "market"
   ]
  }
 ],
 "metadata": {
  "kernelspec": {
   "display_name": "base",
   "language": "python",
   "name": "python3"
  },
  "language_info": {
   "codemirror_mode": {
    "name": "ipython",
    "version": 3
   },
   "file_extension": ".py",
   "mimetype": "text/x-python",
   "name": "python",
   "nbconvert_exporter": "python",
   "pygments_lexer": "ipython3",
   "version": "3.11.5"
  }
 },
 "nbformat": 4,
 "nbformat_minor": 2
}
