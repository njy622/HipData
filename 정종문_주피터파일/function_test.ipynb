{
 "cells": [
  {
   "cell_type": "markdown",
   "metadata": {},
   "source": [
    "### 영수증으로 얻을 수 있는 포인트 알아보기"
   ]
  },
  {
   "cell_type": "code",
   "execution_count": 2,
   "metadata": {},
   "outputs": [
    {
     "ename": "ValueError",
     "evalue": "np.nan is an invalid document, expected byte or unicode string.",
     "output_type": "error",
     "traceback": [
      "\u001b[1;31m---------------------------------------------------------------------------\u001b[0m",
      "\u001b[1;31mValueError\u001b[0m                                Traceback (most recent call last)",
      "\u001b[1;32md:\\workspace\\HipData\\정종문_주피터파일\\function_test.ipynb 셀 2\u001b[0m line \u001b[0;36m3\n\u001b[0;32m      <a href='vscode-notebook-cell:/d%3A/workspace/HipData/%EC%A0%95%EC%A2%85%EB%AC%B8_%EC%A3%BC%ED%94%BC%ED%84%B0%ED%8C%8C%EC%9D%BC/function_test.ipynb#W1sZmlsZQ%3D%3D?line=8'>9</a>\u001b[0m receipt_data \u001b[39m=\u001b[39m \u001b[39m'''\u001b[39m\n\u001b[0;32m     <a href='vscode-notebook-cell:/d%3A/workspace/HipData/%EC%A0%95%EC%A2%85%EB%AC%B8_%EC%A3%BC%ED%94%BC%ED%84%B0%ED%8C%8C%EC%9D%BC/function_test.ipynb#W1sZmlsZQ%3D%3D?line=9'>10</a>\u001b[0m \u001b[39m165\u001b[39m\n\u001b[0;32m     <a href='vscode-notebook-cell:/d%3A/workspace/HipData/%EC%A0%95%EC%A2%85%EB%AC%B8_%EC%A3%BC%ED%94%BC%ED%84%B0%ED%8C%8C%EC%9D%BC/function_test.ipynb#W1sZmlsZQ%3D%3D?line=10'>11</a>\u001b[0m \u001b[39m(겨\u001b[39m\n\u001b[1;32m   (...)\u001b[0m\n\u001b[0;32m     <a href='vscode-notebook-cell:/d%3A/workspace/HipData/%EC%A0%95%EC%A2%85%EB%AC%B8_%EC%A3%BC%ED%94%BC%ED%84%B0%ED%8C%8C%EC%9D%BC/function_test.ipynb#W1sZmlsZQ%3D%3D?line=32'>33</a>\u001b[0m \u001b[39m엘앤멤즈핏1506\u001b[39m\n\u001b[0;32m     <a href='vscode-notebook-cell:/d%3A/workspace/HipData/%EC%A0%95%EC%A2%85%EB%AC%B8_%EC%A3%BC%ED%94%BC%ED%84%B0%ED%8C%8C%EC%9D%BC/function_test.ipynb#W1sZmlsZQ%3D%3D?line=33'>34</a>\u001b[0m \u001b[39m'''\u001b[39m\n\u001b[0;32m     <a href='vscode-notebook-cell:/d%3A/workspace/HipData/%EC%A0%95%EC%A2%85%EB%AC%B8_%EC%A3%BC%ED%94%BC%ED%84%B0%ED%8C%8C%EC%9D%BC/function_test.ipynb#W1sZmlsZQ%3D%3D?line=35'>36</a>\u001b[0m \u001b[39m# 영수증 데이터를 입력하시면\u001b[39;00m\n\u001b[0;32m     <a href='vscode-notebook-cell:/d%3A/workspace/HipData/%EC%A0%95%EC%A2%85%EB%AC%B8_%EC%A3%BC%ED%94%BC%ED%84%B0%ED%8C%8C%EC%9D%BC/function_test.ipynb#W1sZmlsZQ%3D%3D?line=36'>37</a>\u001b[0m \u001b[39m# 샀던 품목 중 그린카드를 썼다면 얻을 수 있었던 포인트 합을 알려드려요.\u001b[39;00m\n\u001b[1;32m---> <a href='vscode-notebook-cell:/d%3A/workspace/HipData/%EC%A0%95%EC%A2%85%EB%AC%B8_%EC%A3%BC%ED%94%BC%ED%84%B0%ED%8C%8C%EC%9D%BC/function_test.ipynb#W1sZmlsZQ%3D%3D?line=38'>39</a>\u001b[0m ur\u001b[39m.\u001b[39mreceipt_get_point(receipt_data)\n",
      "File \u001b[1;32md:\\workspace\\HipData\\util\\receipt.py:24\u001b[0m, in \u001b[0;36mreceipt_get_point\u001b[1;34m(receipt_data)\u001b[0m\n\u001b[0;32m     22\u001b[0m tv \u001b[39m=\u001b[39m TfidfVectorizer()\n\u001b[0;32m     23\u001b[0m receipt_tv \u001b[39m=\u001b[39m tv\u001b[39m.\u001b[39mfit_transform(receipt_df[\u001b[39m'\u001b[39m\u001b[39mtitle\u001b[39m\u001b[39m'\u001b[39m])\n\u001b[1;32m---> 24\u001b[0m list_tv \u001b[39m=\u001b[39m tv\u001b[39m.\u001b[39mtransform(list_df[\u001b[39m'\u001b[39m\u001b[39mtitle_mod\u001b[39m\u001b[39m'\u001b[39m])\n\u001b[0;32m     26\u001b[0m \u001b[39m# 코사인 유사도 계산\u001b[39;00m\n\u001b[0;32m     27\u001b[0m cosine_similarities \u001b[39m=\u001b[39m cosine_similarity(receipt_tv, list_tv)\n",
      "File \u001b[1;32mc:\\Users\\human\\anaconda3\\Lib\\site-packages\\sklearn\\feature_extraction\\text.py:2150\u001b[0m, in \u001b[0;36mTfidfVectorizer.transform\u001b[1;34m(self, raw_documents)\u001b[0m\n\u001b[0;32m   2133\u001b[0m \u001b[39m\u001b[39m\u001b[39m\"\"\"Transform documents to document-term matrix.\u001b[39;00m\n\u001b[0;32m   2134\u001b[0m \n\u001b[0;32m   2135\u001b[0m \u001b[39mUses the vocabulary and document frequencies (df) learned by fit (or\u001b[39;00m\n\u001b[1;32m   (...)\u001b[0m\n\u001b[0;32m   2146\u001b[0m \u001b[39m    Tf-idf-weighted document-term matrix.\u001b[39;00m\n\u001b[0;32m   2147\u001b[0m \u001b[39m\"\"\"\u001b[39;00m\n\u001b[0;32m   2148\u001b[0m check_is_fitted(\u001b[39mself\u001b[39m, msg\u001b[39m=\u001b[39m\u001b[39m\"\u001b[39m\u001b[39mThe TF-IDF vectorizer is not fitted\u001b[39m\u001b[39m\"\u001b[39m)\n\u001b[1;32m-> 2150\u001b[0m X \u001b[39m=\u001b[39m \u001b[39msuper\u001b[39m()\u001b[39m.\u001b[39mtransform(raw_documents)\n\u001b[0;32m   2151\u001b[0m \u001b[39mreturn\u001b[39;00m \u001b[39mself\u001b[39m\u001b[39m.\u001b[39m_tfidf\u001b[39m.\u001b[39mtransform(X, copy\u001b[39m=\u001b[39m\u001b[39mFalse\u001b[39;00m)\n",
      "File \u001b[1;32mc:\\Users\\human\\anaconda3\\Lib\\site-packages\\sklearn\\feature_extraction\\text.py:1428\u001b[0m, in \u001b[0;36mCountVectorizer.transform\u001b[1;34m(self, raw_documents)\u001b[0m\n\u001b[0;32m   1425\u001b[0m \u001b[39mself\u001b[39m\u001b[39m.\u001b[39m_check_vocabulary()\n\u001b[0;32m   1427\u001b[0m \u001b[39m# use the same matrix-building strategy as fit_transform\u001b[39;00m\n\u001b[1;32m-> 1428\u001b[0m _, X \u001b[39m=\u001b[39m \u001b[39mself\u001b[39m\u001b[39m.\u001b[39m_count_vocab(raw_documents, fixed_vocab\u001b[39m=\u001b[39m\u001b[39mTrue\u001b[39;00m)\n\u001b[0;32m   1429\u001b[0m \u001b[39mif\u001b[39;00m \u001b[39mself\u001b[39m\u001b[39m.\u001b[39mbinary:\n\u001b[0;32m   1430\u001b[0m     X\u001b[39m.\u001b[39mdata\u001b[39m.\u001b[39mfill(\u001b[39m1\u001b[39m)\n",
      "File \u001b[1;32mc:\\Users\\human\\anaconda3\\Lib\\site-packages\\sklearn\\feature_extraction\\text.py:1270\u001b[0m, in \u001b[0;36mCountVectorizer._count_vocab\u001b[1;34m(self, raw_documents, fixed_vocab)\u001b[0m\n\u001b[0;32m   1268\u001b[0m \u001b[39mfor\u001b[39;00m doc \u001b[39min\u001b[39;00m raw_documents:\n\u001b[0;32m   1269\u001b[0m     feature_counter \u001b[39m=\u001b[39m {}\n\u001b[1;32m-> 1270\u001b[0m     \u001b[39mfor\u001b[39;00m feature \u001b[39min\u001b[39;00m analyze(doc):\n\u001b[0;32m   1271\u001b[0m         \u001b[39mtry\u001b[39;00m:\n\u001b[0;32m   1272\u001b[0m             feature_idx \u001b[39m=\u001b[39m vocabulary[feature]\n",
      "File \u001b[1;32mc:\\Users\\human\\anaconda3\\Lib\\site-packages\\sklearn\\feature_extraction\\text.py:105\u001b[0m, in \u001b[0;36m_analyze\u001b[1;34m(doc, analyzer, tokenizer, ngrams, preprocessor, decoder, stop_words)\u001b[0m\n\u001b[0;32m     83\u001b[0m \u001b[39m\u001b[39m\u001b[39m\"\"\"Chain together an optional series of text processing steps to go from\u001b[39;00m\n\u001b[0;32m     84\u001b[0m \u001b[39ma single document to ngrams, with or without tokenizing or preprocessing.\u001b[39;00m\n\u001b[0;32m     85\u001b[0m \n\u001b[1;32m   (...)\u001b[0m\n\u001b[0;32m    101\u001b[0m \u001b[39m    A sequence of tokens, possibly with pairs, triples, etc.\u001b[39;00m\n\u001b[0;32m    102\u001b[0m \u001b[39m\"\"\"\u001b[39;00m\n\u001b[0;32m    104\u001b[0m \u001b[39mif\u001b[39;00m decoder \u001b[39mis\u001b[39;00m \u001b[39mnot\u001b[39;00m \u001b[39mNone\u001b[39;00m:\n\u001b[1;32m--> 105\u001b[0m     doc \u001b[39m=\u001b[39m decoder(doc)\n\u001b[0;32m    106\u001b[0m \u001b[39mif\u001b[39;00m analyzer \u001b[39mis\u001b[39;00m \u001b[39mnot\u001b[39;00m \u001b[39mNone\u001b[39;00m:\n\u001b[0;32m    107\u001b[0m     doc \u001b[39m=\u001b[39m analyzer(doc)\n",
      "File \u001b[1;32mc:\\Users\\human\\anaconda3\\Lib\\site-packages\\sklearn\\feature_extraction\\text.py:238\u001b[0m, in \u001b[0;36m_VectorizerMixin.decode\u001b[1;34m(self, doc)\u001b[0m\n\u001b[0;32m    235\u001b[0m     doc \u001b[39m=\u001b[39m doc\u001b[39m.\u001b[39mdecode(\u001b[39mself\u001b[39m\u001b[39m.\u001b[39mencoding, \u001b[39mself\u001b[39m\u001b[39m.\u001b[39mdecode_error)\n\u001b[0;32m    237\u001b[0m \u001b[39mif\u001b[39;00m doc \u001b[39mis\u001b[39;00m np\u001b[39m.\u001b[39mnan:\n\u001b[1;32m--> 238\u001b[0m     \u001b[39mraise\u001b[39;00m \u001b[39mValueError\u001b[39;00m(\n\u001b[0;32m    239\u001b[0m         \u001b[39m\"\u001b[39m\u001b[39mnp.nan is an invalid document, expected byte or unicode string.\u001b[39m\u001b[39m\"\u001b[39m\n\u001b[0;32m    240\u001b[0m     )\n\u001b[0;32m    242\u001b[0m \u001b[39mreturn\u001b[39;00m doc\n",
      "\u001b[1;31mValueError\u001b[0m: np.nan is an invalid document, expected byte or unicode string."
     ]
    }
   ],
   "source": [
    "import os, sys  \n",
    "module_path = os.path.abspath(os.path.join('..'))\n",
    "if module_path not in sys.path:\n",
    "\tsys.path.append(module_path)\n",
    "import util.receipt as ur\n",
    "\n",
    "\n",
    "# str로 변환된 영수증\n",
    "receipt_data = '''\n",
    "165\n",
    "(겨\n",
    "[대\n",
    "190\n",
    "\n",
    "이마트 세충점(044)90:\n",
    "06-06-50913\n",
    "세종쪽별사치시\n",
    "\n",
    "밥왼더블:\n",
    "\n",
    "호 시서자 쑥내8\n",
    "파프리카(홀합)\n",
    "강원 애호박\n",
    "\n",
    "덴)부드러문치즈252\n",
    "항브로클리(2일/불)\n",
    "후레쉬센터 흙대파\n",
    "마칠에주스 포도1.8\n",
    "풀무원 서주도콩콩\n",
    "덴)부드러문치즈250\n",
    "날양 맛있는무류 Ｌ\n",
    "쿠리쌀 프레이ㅋ490\n",
    "엘앤멤즈핏1506\n",
    "'''\n",
    "\n",
    "# 영수증 데이터를 입력하시면\n",
    "# 샀던 품목 중 그린카드를 썼다면 얻을 수 있었던 포인트 합을 알려드려요.\n",
    "\n",
    "ur.receipt_get_point(receipt_data)"
   ]
  },
  {
   "cell_type": "markdown",
   "metadata": {},
   "source": [
    "### 입력한 상품을 취급하는 매장 3곳 찾기"
   ]
  },
  {
   "cell_type": "code",
   "execution_count": 3,
   "metadata": {},
   "outputs": [
    {
     "ename": "ModuleNotFoundError",
     "evalue": "No module named 'util'",
     "output_type": "error",
     "traceback": [
      "\u001b[1;31m---------------------------------------------------------------------------\u001b[0m",
      "\u001b[1;31mModuleNotFoundError\u001b[0m                       Traceback (most recent call last)",
      "\u001b[1;32md:\\workspace\\HipData\\정종문_주피터파일\\function_test.ipynb 셀 4\u001b[0m line \u001b[0;36m1\n\u001b[1;32m----> <a href='vscode-notebook-cell:/d%3A/workspace/HipData/%EC%A0%95%EC%A2%85%EB%AC%B8_%EC%A3%BC%ED%94%BC%ED%84%B0%ED%8C%8C%EC%9D%BC/function_test.ipynb#W3sZmlsZQ%3D%3D?line=0'>1</a>\u001b[0m \u001b[39mimport\u001b[39;00m \u001b[39mutil\u001b[39;00m\u001b[39m.\u001b[39;00m\u001b[39mitem_analysis\u001b[39;00m \u001b[39mas\u001b[39;00m \u001b[39mui\u001b[39;00m\n\u001b[0;32m      <a href='vscode-notebook-cell:/d%3A/workspace/HipData/%EC%A0%95%EC%A2%85%EB%AC%B8_%EC%A3%BC%ED%94%BC%ED%84%B0%ED%8C%8C%EC%9D%BC/function_test.ipynb#W3sZmlsZQ%3D%3D?line=2'>3</a>\u001b[0m \u001b[39m# 상품명을 입력하시면\u001b[39;00m\n\u001b[0;32m      <a href='vscode-notebook-cell:/d%3A/workspace/HipData/%EC%A0%95%EC%A2%85%EB%AC%B8_%EC%A3%BC%ED%94%BC%ED%84%B0%ED%8C%8C%EC%9D%BC/function_test.ipynb#W3sZmlsZQ%3D%3D?line=3'>4</a>\u001b[0m \u001b[39m# 포인트를 얻을 수 있는 매장을 3개 알려드려요.\u001b[39;00m\n\u001b[0;32m      <a href='vscode-notebook-cell:/d%3A/workspace/HipData/%EC%A0%95%EC%A2%85%EB%AC%B8_%EC%A3%BC%ED%94%BC%ED%84%B0%ED%8C%8C%EC%9D%BC/function_test.ipynb#W3sZmlsZQ%3D%3D?line=5'>6</a>\u001b[0m title \u001b[39m=\u001b[39m \u001b[39m'\u001b[39m\u001b[39m귤\u001b[39m\u001b[39m'\u001b[39m\n",
      "\u001b[1;31mModuleNotFoundError\u001b[0m: No module named 'util'"
     ]
    }
   ],
   "source": [
    "import util.item_analysis as ui\n",
    "\n",
    "# 상품명을 입력하시면\n",
    "# 포인트를 얻을 수 있는 매장을 3개 알려드려요.\n",
    "\n",
    "title = '귤'\n",
    "\n",
    "ui.get_title_market(title)"
   ]
  },
  {
   "cell_type": "markdown",
   "metadata": {},
   "source": [
    "### 입력한 주소 근처에 매장이 있는지 알아보기"
   ]
  },
  {
   "cell_type": "code",
   "execution_count": 6,
   "metadata": {},
   "outputs": [
    {
     "data": {
      "text/plain": [
       "['올가홀푸드 없음', '이마트 없음', '두레생협 없음']"
      ]
     },
     "execution_count": 6,
     "metadata": {},
     "output_type": "execute_result"
    }
   ],
   "source": [
    "# 가까운 매장이 있는지\n",
    "# 현 주소를 알려주세요.\n",
    "\n",
    "addr = '울릉군'\n",
    "\n",
    "ui.get_market_info(addr)"
   ]
  }
 ],
 "metadata": {
  "kernelspec": {
   "display_name": "base",
   "language": "python",
   "name": "python3"
  },
  "language_info": {
   "codemirror_mode": {
    "name": "ipython",
    "version": 3
   },
   "file_extension": ".py",
   "mimetype": "text/x-python",
   "name": "python",
   "nbconvert_exporter": "python",
   "pygments_lexer": "ipython3",
   "version": "3.11.5"
  }
 },
 "nbformat": 4,
 "nbformat_minor": 2
}
