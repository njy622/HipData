{
 "cells": [
  {
   "cell_type": "markdown",
   "metadata": {},
   "source": [
    "### 영수증으로 얻을 수 있는 포인트 알아보기"
   ]
  },
  {
   "cell_type": "code",
   "execution_count": 2,
   "metadata": {},
   "outputs": [],
   "source": [
    "import numpy as np\n",
    "import pandas as pd\n",
    "import re\n",
    "from sklearn.feature_extraction.text import TfidfVectorizer\n",
    "from sklearn.metrics.pairwise import cosine_similarity\n",
    "import pytesseract\n",
    "import cv2"
   ]
  },
  {
   "cell_type": "markdown",
   "metadata": {},
   "source": [
    "##### 01. 데이터프레임 생성\n",
    "- 영수증 전처리"
   ]
  },
  {
   "cell_type": "code",
   "execution_count": 3,
   "metadata": {},
   "outputs": [
    {
     "name": "stdout",
     "output_type": "stream",
     "text": [
      ".06-50013 이린\n",
      "세@9시치시 3\n",
      "\n",
      "|\n",
      "\n",
      "저격\n",
      "\n",
      "6\n",
      "1\n",
      "\n",
      "기\n",
      "\n",
      "6\n",
      "\n",
      "\"\n",
      "\n",
      "2:\n",
      "31900\n",
      "1\n",
      "\n",
      "6\n",
      "\n",
      "\"1\n",
      "\n",
      "[그\n",
      "\n",
      "2.\n",
      "\n",
      "1 333\n",
      "\n",
      "'고느대개,\n",
      "\n",
      "\n"
     ]
    },
    {
     "data": {
      "text/html": [
       "<div>\n",
       "<style scoped>\n",
       "    .dataframe tbody tr th:only-of-type {\n",
       "        vertical-align: middle;\n",
       "    }\n",
       "\n",
       "    .dataframe tbody tr th {\n",
       "        vertical-align: top;\n",
       "    }\n",
       "\n",
       "    .dataframe thead th {\n",
       "        text-align: right;\n",
       "    }\n",
       "</style>\n",
       "<table border=\"1\" class=\"dataframe\">\n",
       "  <thead>\n",
       "    <tr style=\"text-align: right;\">\n",
       "      <th></th>\n",
       "      <th>title</th>\n",
       "    </tr>\n",
       "  </thead>\n",
       "  <tbody>\n",
       "    <tr>\n",
       "      <th>0</th>\n",
       "      <td>이린</td>\n",
       "    </tr>\n",
       "    <tr>\n",
       "      <th>1</th>\n",
       "      <td>세시치시</td>\n",
       "    </tr>\n",
       "    <tr>\n",
       "      <th>2</th>\n",
       "      <td>저격</td>\n",
       "    </tr>\n",
       "    <tr>\n",
       "      <th>3</th>\n",
       "      <td>기</td>\n",
       "    </tr>\n",
       "    <tr>\n",
       "      <th>4</th>\n",
       "      <td>그</td>\n",
       "    </tr>\n",
       "    <tr>\n",
       "      <th>5</th>\n",
       "      <td></td>\n",
       "    </tr>\n",
       "    <tr>\n",
       "      <th>6</th>\n",
       "      <td>고느대개</td>\n",
       "    </tr>\n",
       "  </tbody>\n",
       "</table>\n",
       "</div>"
      ],
      "text/plain": [
       "   title\n",
       "0     이린\n",
       "1  세시치시 \n",
       "2     저격\n",
       "3      기\n",
       "4      그\n",
       "5       \n",
       "6   고느대개"
      ]
     },
     "execution_count": 3,
     "metadata": {},
     "output_type": "execute_result"
    }
   ],
   "source": [
    "pytesseract.pytesseract.tesseract_cmd = r'C:\\Users\\human\\AppData\\Local\\tesseract.exe'\n",
    "\n",
    "path = r'..\\image\\123123.jpg'\n",
    "image = cv2.imread(path)\n",
    "rgb_image = cv2.cvtColor(image, cv2.COLOR_BGR2GRAY)\n",
    "\n",
    "receipt_data = pytesseract.image_to_string(rgb_image, lang='kor')\n",
    "print(receipt_data)\n",
    "\n",
    "receipt = receipt_data.split('\\n')\n",
    "receipt_df = pd.DataFrame(receipt, columns=['title'])\n",
    "receipt_df['title'] = receipt_df['title'].apply(lambda x: re.sub('[^가-힣\\s]', '', x))\n",
    "receipt_df = receipt_df[receipt_df.title != '']\n",
    "receipt_df.set_index('title', inplace=True)\n",
    "receipt_df.reset_index(inplace=True)\n",
    "receipt_df"
   ]
  },
  {
   "cell_type": "markdown",
   "metadata": {},
   "source": [
    "- 리스트 전처리"
   ]
  },
  {
   "cell_type": "code",
   "execution_count": 3,
   "metadata": {},
   "outputs": [],
   "source": [
    "# 전처리 전 데이터 불러오기\n",
    "list_df = pd.read_csv('../data/친환경 제품(초안).csv')\n",
    "# 중복 데이터 제거\n",
    "list_df.drop_duplicates(subset=['title'], inplace=True)\n",
    "# 불필요한 문자 제거\n",
    "list_df['title_mod'] = list_df['title'].apply(lambda x: re.sub(r'\\([^)]*\\)', '', x))\n",
    "list_df['title_mod'] = list_df['title_mod'].apply(lambda x: re.sub(r'\\[[^)]*\\]', '', x))\n",
    "list_df['title_mod'] = list_df['title_mod'].apply(lambda x: re.sub(r'[^ ㄱ-ㅣ가-힣]+', '', x))\n",
    "list_df['point'] = list_df['point'].apply(lambda x: re.sub(r'[^0-9]+', '', x))\n",
    "list_df['point'] = list_df['point'].astype(int)\n",
    "# 인덱스 정렬\n",
    "list_df.set_index('title', inplace=True)\n",
    "list_df.reset_index(inplace=True)\n",
    "# 컬럼별 공백 제거\n",
    "list_df['market'] = list_df['market'].str.lstrip(' ')\n",
    "list_df['title'] = list_df['title'].str.lstrip(' ')\n",
    "list_df['title_mod'] = list_df['title_mod'].str.lstrip(' ')\n",
    "# 빈 문자열 nan값으로 교체 후 삭제\n",
    "list_df = list_df.replace('', np.nan)\n",
    "list_df = list_df.dropna(axis=0)\n",
    "# 최종본으로 저장\n",
    "list_df.to_csv('../data/eco_product.csv', index=False)"
   ]
  },
  {
   "cell_type": "code",
   "execution_count": 4,
   "metadata": {},
   "outputs": [
    {
     "data": {
      "text/plain": [
       "title        0\n",
       "point        0\n",
       "market       0\n",
       "title_mod    0\n",
       "dtype: int64"
      ]
     },
     "execution_count": 4,
     "metadata": {},
     "output_type": "execute_result"
    }
   ],
   "source": [
    "list_df = pd.read_csv('../data/eco_product.csv')\n",
    "list_df.isna().sum()"
   ]
  },
  {
   "cell_type": "markdown",
   "metadata": {},
   "source": [
    "##### 02. 유사도 검사\n",
    "- TF-IDF 벡터화"
   ]
  },
  {
   "cell_type": "code",
   "execution_count": 5,
   "metadata": {},
   "outputs": [],
   "source": [
    "tv = TfidfVectorizer()\n",
    "receipt_tv = tv.fit_transform(receipt_df['title'])\n",
    "list_tv = tv.transform(list_df['title_mod'])"
   ]
  },
  {
   "cell_type": "markdown",
   "metadata": {},
   "source": [
    "- 코사인 유사도 계산"
   ]
  },
  {
   "cell_type": "code",
   "execution_count": 6,
   "metadata": {},
   "outputs": [],
   "source": [
    "cosine_similarities = cosine_similarity(receipt_tv, list_tv)\n"
   ]
  },
  {
   "cell_type": "markdown",
   "metadata": {},
   "source": [
    "- 유사도 컬럼으로 추가"
   ]
  },
  {
   "cell_type": "code",
   "execution_count": 7,
   "metadata": {},
   "outputs": [],
   "source": [
    "receipt_df['cosine_similarity'] = cosine_similarities.max(axis=1)"
   ]
  },
  {
   "cell_type": "markdown",
   "metadata": {},
   "source": [
    "- 유사한 항목 추가"
   ]
  },
  {
   "cell_type": "code",
   "execution_count": 8,
   "metadata": {},
   "outputs": [],
   "source": [
    "most_similar_indices = cosine_similarities.argmax(axis=1)\n",
    "most_similar_items = list_df.loc[most_similar_indices, 'title_mod'].values\n",
    "receipt_df['most_similar_item'] = most_similar_items\n",
    "receipt_df['point'] = list_df.loc[most_similar_indices, 'point'].values\n",
    "receipt_df['market'] = list_df.loc[most_similar_indices, 'market'].values"
   ]
  },
  {
   "cell_type": "code",
   "execution_count": 9,
   "metadata": {},
   "outputs": [
    {
     "data": {
      "text/html": [
       "<div>\n",
       "<style scoped>\n",
       "    .dataframe tbody tr th:only-of-type {\n",
       "        vertical-align: middle;\n",
       "    }\n",
       "\n",
       "    .dataframe tbody tr th {\n",
       "        vertical-align: top;\n",
       "    }\n",
       "\n",
       "    .dataframe thead th {\n",
       "        text-align: right;\n",
       "    }\n",
       "</style>\n",
       "<table border=\"1\" class=\"dataframe\">\n",
       "  <thead>\n",
       "    <tr style=\"text-align: right;\">\n",
       "      <th></th>\n",
       "      <th>title</th>\n",
       "      <th>cosine_similarity</th>\n",
       "      <th>most_similar_item</th>\n",
       "      <th>point</th>\n",
       "      <th>market</th>\n",
       "    </tr>\n",
       "  </thead>\n",
       "  <tbody>\n",
       "    <tr>\n",
       "      <th>0</th>\n",
       "      <td>다 졸고오</td>\n",
       "      <td>0.000000</td>\n",
       "      <td>수실류은행</td>\n",
       "      <td>10</td>\n",
       "      <td>로컬푸드 직매장</td>\n",
       "    </tr>\n",
       "    <tr>\n",
       "      <th>1</th>\n",
       "      <td>세특보시치시</td>\n",
       "      <td>0.000000</td>\n",
       "      <td>수실류은행</td>\n",
       "      <td>10</td>\n",
       "      <td>로컬푸드 직매장</td>\n",
       "    </tr>\n",
       "    <tr>\n",
       "      <th>2</th>\n",
       "      <td>행브로클리</td>\n",
       "      <td>0.000000</td>\n",
       "      <td>수실류은행</td>\n",
       "      <td>10</td>\n",
       "      <td>로컬푸드 직매장</td>\n",
       "    </tr>\n",
       "    <tr>\n",
       "      <th>3</th>\n",
       "      <td>후레취벤터 다이</td>\n",
       "      <td>0.000000</td>\n",
       "      <td>수실류은행</td>\n",
       "      <td>10</td>\n",
       "      <td>로컬푸드 직매장</td>\n",
       "    </tr>\n",
       "    <tr>\n",
       "      <th>4</th>\n",
       "      <td>에우 포도</td>\n",
       "      <td>0.707107</td>\n",
       "      <td>유기농 포도</td>\n",
       "      <td>1270</td>\n",
       "      <td>두레생협</td>\n",
       "    </tr>\n",
       "    <tr>\n",
       "      <th>5</th>\n",
       "      <td>세주도콩콜</td>\n",
       "      <td>0.000000</td>\n",
       "      <td>수실류은행</td>\n",
       "      <td>10</td>\n",
       "      <td>로컬푸드 직매장</td>\n",
       "    </tr>\n",
       "    <tr>\n",
       "      <th>6</th>\n",
       "      <td>드준치즈</td>\n",
       "      <td>0.000000</td>\n",
       "      <td>수실류은행</td>\n",
       "      <td>10</td>\n",
       "      <td>로컬푸드 직매장</td>\n",
       "    </tr>\n",
       "  </tbody>\n",
       "</table>\n",
       "</div>"
      ],
      "text/plain": [
       "      title  cosine_similarity most_similar_item  point    market\n",
       "0     다 졸고오           0.000000             수실류은행     10  로컬푸드 직매장\n",
       "1   세특보시치시            0.000000             수실류은행     10  로컬푸드 직매장\n",
       "2     행브로클리           0.000000             수실류은행     10  로컬푸드 직매장\n",
       "3  후레취벤터 다이           0.000000             수실류은행     10  로컬푸드 직매장\n",
       "4    에우 포도            0.707107            유기농 포도   1270      두레생협\n",
       "5     세주도콩콜           0.000000             수실류은행     10  로컬푸드 직매장\n",
       "6      드준치즈           0.000000             수실류은행     10  로컬푸드 직매장"
      ]
     },
     "execution_count": 9,
     "metadata": {},
     "output_type": "execute_result"
    }
   ],
   "source": [
    "receipt_df"
   ]
  },
  {
   "cell_type": "code",
   "execution_count": 11,
   "metadata": {},
   "outputs": [
    {
     "data": {
      "text/html": [
       "<div>\n",
       "<style scoped>\n",
       "    .dataframe tbody tr th:only-of-type {\n",
       "        vertical-align: middle;\n",
       "    }\n",
       "\n",
       "    .dataframe tbody tr th {\n",
       "        vertical-align: top;\n",
       "    }\n",
       "\n",
       "    .dataframe thead th {\n",
       "        text-align: right;\n",
       "    }\n",
       "</style>\n",
       "<table border=\"1\" class=\"dataframe\">\n",
       "  <thead>\n",
       "    <tr style=\"text-align: right;\">\n",
       "      <th></th>\n",
       "      <th>title</th>\n",
       "      <th>cosine_similarity</th>\n",
       "      <th>most_similar_item</th>\n",
       "      <th>point</th>\n",
       "      <th>market</th>\n",
       "    </tr>\n",
       "  </thead>\n",
       "  <tbody>\n",
       "    <tr>\n",
       "      <th>4</th>\n",
       "      <td>에우 포도</td>\n",
       "      <td>0.707107</td>\n",
       "      <td>유기농 포도</td>\n",
       "      <td>1270</td>\n",
       "      <td>두레생협</td>\n",
       "    </tr>\n",
       "  </tbody>\n",
       "</table>\n",
       "</div>"
      ],
      "text/plain": [
       "    title  cosine_similarity most_similar_item  point market\n",
       "4  에우 포도            0.707107            유기농 포도   1270   두레생협"
      ]
     },
     "execution_count": 11,
     "metadata": {},
     "output_type": "execute_result"
    }
   ],
   "source": [
    "# cosine_similarity의 값이 0.5 이상인 경우만 추출\n",
    "receipt_df = receipt_df[receipt_df['cosine_similarity'] >= 0.5]\n",
    "receipt_df"
   ]
  },
  {
   "cell_type": "code",
   "execution_count": 103,
   "metadata": {},
   "outputs": [
    {
     "data": {
      "text/plain": [
       "2750"
      ]
     },
     "execution_count": 103,
     "metadata": {},
     "output_type": "execute_result"
    }
   ],
   "source": [
    "# 포인트 합계\n",
    "receipt_df['point'].sum()"
   ]
  },
  {
   "cell_type": "code",
   "execution_count": 104,
   "metadata": {},
   "outputs": [
    {
     "name": "stdout",
     "output_type": "stream",
     "text": [
      "강원 애호박(60p)\n",
      "마칠에주스 포도(1270p)\n",
      "풀무원 서주도콩콩(1420p)\n",
      "\n",
      "총 2750p\n"
     ]
    }
   ],
   "source": [
    "###\n",
    "receipt_list = []\n",
    "point_list = []\n",
    "for i in receipt_df.index:\n",
    "    point_list.append(receipt_df['point'][i])\n",
    "    receipt_list.append(f'''{receipt_df['title'][i]}({str(receipt_df['point'][i])+'% 적립' if receipt_df['point'][i] == 10 else str(receipt_df['point'][i])+'p'})''')\n",
    "total_item = '\\n'.join(receipt_list)\n",
    "accu = 0\n",
    "t_point = 0\n",
    "for i in point_list:\n",
    "    if i == 10:\n",
    "        accu += i\n",
    "    else:\n",
    "        t_point += i\n",
    "\n",
    "if accu == 0:\n",
    "    total_point = f'\\n\\n총 {t_point}p'\n",
    "elif t_point == 0:\n",
    "    total_point = f'\\n\\n총 {accu}% 적립'\n",
    "else:\n",
    "    total_point = f'\\n\\n총 {accu}% 적립 + {t_point}p'\n",
    "\n",
    "total_result = total_item + total_point\n",
    "print(total_result)"
   ]
  },
  {
   "cell_type": "code",
   "execution_count": null,
   "metadata": {},
   "outputs": [],
   "source": []
  }
 ],
 "metadata": {
  "kernelspec": {
   "display_name": "base",
   "language": "python",
   "name": "python3"
  },
  "language_info": {
   "codemirror_mode": {
    "name": "ipython",
    "version": 3
   },
   "file_extension": ".py",
   "mimetype": "text/x-python",
   "name": "python",
   "nbconvert_exporter": "python",
   "pygments_lexer": "ipython3",
   "version": "3.11.5"
  }
 },
 "nbformat": 4,
 "nbformat_minor": 2
}
