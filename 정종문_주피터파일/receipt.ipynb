{
 "cells": [
  {
   "cell_type": "markdown",
   "metadata": {},
   "source": [
    "### 영수증으로 얻을 수 있는 포인트 알아보기"
   ]
  },
  {
   "cell_type": "code",
   "execution_count": 93,
   "metadata": {},
   "outputs": [],
   "source": [
    "import numpy as np\n",
    "import pandas as pd\n",
    "import re\n",
    "from sklearn.feature_extraction.text import TfidfVectorizer\n",
    "from sklearn.metrics.pairwise import cosine_similarity"
   ]
  },
  {
   "cell_type": "markdown",
   "metadata": {},
   "source": [
    "##### 01. 데이터프레임 생성\n",
    "- 영수증 전처리"
   ]
  },
  {
   "cell_type": "code",
   "execution_count": 94,
   "metadata": {},
   "outputs": [
    {
     "data": {
      "text/html": [
       "<div>\n",
       "<style scoped>\n",
       "    .dataframe tbody tr th:only-of-type {\n",
       "        vertical-align: middle;\n",
       "    }\n",
       "\n",
       "    .dataframe tbody tr th {\n",
       "        vertical-align: top;\n",
       "    }\n",
       "\n",
       "    .dataframe thead th {\n",
       "        text-align: right;\n",
       "    }\n",
       "</style>\n",
       "<table border=\"1\" class=\"dataframe\">\n",
       "  <thead>\n",
       "    <tr style=\"text-align: right;\">\n",
       "      <th></th>\n",
       "      <th>title</th>\n",
       "    </tr>\n",
       "  </thead>\n",
       "  <tbody>\n",
       "    <tr>\n",
       "      <th>0</th>\n",
       "      <td>겨</td>\n",
       "    </tr>\n",
       "    <tr>\n",
       "      <th>1</th>\n",
       "      <td>대</td>\n",
       "    </tr>\n",
       "    <tr>\n",
       "      <th>2</th>\n",
       "      <td>이마트 세충점</td>\n",
       "    </tr>\n",
       "    <tr>\n",
       "      <th>3</th>\n",
       "      <td>세종쪽별사치시</td>\n",
       "    </tr>\n",
       "    <tr>\n",
       "      <th>4</th>\n",
       "      <td>밥왼더블</td>\n",
       "    </tr>\n",
       "    <tr>\n",
       "      <th>5</th>\n",
       "      <td>호 시서자 쑥내</td>\n",
       "    </tr>\n",
       "    <tr>\n",
       "      <th>6</th>\n",
       "      <td>파프리카홀합</td>\n",
       "    </tr>\n",
       "    <tr>\n",
       "      <th>7</th>\n",
       "      <td>강원 애호박</td>\n",
       "    </tr>\n",
       "    <tr>\n",
       "      <th>8</th>\n",
       "      <td>덴부드러문치즈</td>\n",
       "    </tr>\n",
       "    <tr>\n",
       "      <th>9</th>\n",
       "      <td>항브로클리일불</td>\n",
       "    </tr>\n",
       "    <tr>\n",
       "      <th>10</th>\n",
       "      <td>후레쉬센터 흙대파</td>\n",
       "    </tr>\n",
       "    <tr>\n",
       "      <th>11</th>\n",
       "      <td>마칠에주스 포도</td>\n",
       "    </tr>\n",
       "    <tr>\n",
       "      <th>12</th>\n",
       "      <td>풀무원 서주도콩콩</td>\n",
       "    </tr>\n",
       "    <tr>\n",
       "      <th>13</th>\n",
       "      <td>덴부드러문치즈</td>\n",
       "    </tr>\n",
       "    <tr>\n",
       "      <th>14</th>\n",
       "      <td>날양 맛있는무류</td>\n",
       "    </tr>\n",
       "    <tr>\n",
       "      <th>15</th>\n",
       "      <td>쿠리쌀 프레이</td>\n",
       "    </tr>\n",
       "    <tr>\n",
       "      <th>16</th>\n",
       "      <td>엘앤멤즈핏</td>\n",
       "    </tr>\n",
       "  </tbody>\n",
       "</table>\n",
       "</div>"
      ],
      "text/plain": [
       "        title\n",
       "0           겨\n",
       "1           대\n",
       "2     이마트 세충점\n",
       "3     세종쪽별사치시\n",
       "4        밥왼더블\n",
       "5    호 시서자 쑥내\n",
       "6      파프리카홀합\n",
       "7      강원 애호박\n",
       "8     덴부드러문치즈\n",
       "9     항브로클리일불\n",
       "10  후레쉬센터 흙대파\n",
       "11   마칠에주스 포도\n",
       "12  풀무원 서주도콩콩\n",
       "13    덴부드러문치즈\n",
       "14  날양 맛있는무류 \n",
       "15    쿠리쌀 프레이\n",
       "16      엘앤멤즈핏"
      ]
     },
     "execution_count": 94,
     "metadata": {},
     "output_type": "execute_result"
    }
   ],
   "source": [
    "receipt_data = '''\n",
    "165\n",
    "(겨\n",
    "[대\n",
    "190\n",
    "\n",
    "이마트 세충점(044)90:\n",
    "06-06-50913\n",
    "세종쪽별사치시\n",
    "\n",
    "밥왼더블:\n",
    "\n",
    "호 시서자 쑥내8\n",
    "파프리카(홀합)\n",
    "강원 애호박\n",
    "\n",
    "덴)부드러문치즈252\n",
    "항브로클리(2일/불)\n",
    "후레쉬센터 흙대파\n",
    "마칠에주스 포도1.8\n",
    "풀무원 서주도콩콩\n",
    "덴)부드러문치즈250\n",
    "날양 맛있는무류 Ｌ\n",
    "쿠리쌀 프레이ㅋ490\n",
    "엘앤멤즈핏1506\n",
    "'''\n",
    "receipt = receipt_data.split('\\n')\n",
    "receipt_df = pd.DataFrame(receipt, columns=['title'])\n",
    "receipt_df['title'] = receipt_df['title'].apply(lambda x: re.sub('[^가-힣\\s]', '', x))\n",
    "receipt_df = receipt_df[receipt_df.title != '']\n",
    "receipt_df.set_index('title', inplace=True)\n",
    "receipt_df.reset_index(inplace=True)\n",
    "receipt_df"
   ]
  },
  {
   "cell_type": "markdown",
   "metadata": {},
   "source": [
    "- 리스트 전처리"
   ]
  },
  {
   "cell_type": "code",
   "execution_count": 95,
   "metadata": {},
   "outputs": [],
   "source": [
    "# 전처리 전 데이터 불러오기\n",
    "list_df = pd.read_csv('../data/친환경 제품(초안).csv')\n",
    "# 중복 데이터 제거\n",
    "list_df.drop_duplicates(subset=['title'], inplace=True)\n",
    "# 불필요한 문자 제거\n",
    "list_df['title_mod'] = list_df['title'].apply(lambda x: re.sub(r'\\([^)]*\\)', '', x))\n",
    "list_df['title_mod'] = list_df['title_mod'].apply(lambda x: re.sub(r'\\[[^)]*\\]', '', x))\n",
    "list_df['title_mod'] = list_df['title_mod'].apply(lambda x: re.sub(r'[^ ㄱ-ㅣ가-힣]+', '', x))\n",
    "list_df['point'] = list_df['point'].apply(lambda x: re.sub(r'[^0-9]+', '', x))\n",
    "list_df['point'] = list_df['point'].astype(int)\n",
    "# 인덱스 정렬\n",
    "list_df.set_index('title', inplace=True)\n",
    "list_df.reset_index(inplace=True)\n",
    "# 컬럼별 공백 제거\n",
    "list_df['market'] = list_df['market'].str.lstrip(' ')\n",
    "list_df['title'] = list_df['title'].str.lstrip(' ')\n",
    "list_df['title_mod'] = list_df['title_mod'].str.lstrip(' ')\n",
    "# 빈 문자열 nan값으로 교체 후 삭제\n",
    "list_df = list_df.replace('', np.nan)\n",
    "list_df = list_df.dropna(axis=0)\n",
    "# 최종본으로 저장\n",
    "list_df.to_csv('../data/eco_product.csv', index=False)"
   ]
  },
  {
   "cell_type": "code",
   "execution_count": 96,
   "metadata": {},
   "outputs": [
    {
     "data": {
      "text/plain": [
       "title        0\n",
       "point        0\n",
       "market       0\n",
       "title_mod    0\n",
       "dtype: int64"
      ]
     },
     "execution_count": 96,
     "metadata": {},
     "output_type": "execute_result"
    }
   ],
   "source": [
    "list_df = pd.read_csv('../data/eco_product.csv')\n",
    "list_df.isna().sum()"
   ]
  },
  {
   "cell_type": "markdown",
   "metadata": {},
   "source": [
    "##### 02. 유사도 검사\n",
    "- TF-IDF 벡터화"
   ]
  },
  {
   "cell_type": "code",
   "execution_count": 97,
   "metadata": {},
   "outputs": [],
   "source": [
    "tv = TfidfVectorizer()\n",
    "receipt_tv = tv.fit_transform(receipt_df['title'])\n",
    "list_tv = tv.transform(list_df['title_mod'])"
   ]
  },
  {
   "cell_type": "markdown",
   "metadata": {},
   "source": [
    "- 코사인 유사도 계산"
   ]
  },
  {
   "cell_type": "code",
   "execution_count": 98,
   "metadata": {},
   "outputs": [],
   "source": [
    "cosine_similarities = cosine_similarity(receipt_tv, list_tv)\n"
   ]
  },
  {
   "cell_type": "markdown",
   "metadata": {},
   "source": [
    "- 유사도 컬럼으로 추가"
   ]
  },
  {
   "cell_type": "code",
   "execution_count": 99,
   "metadata": {},
   "outputs": [],
   "source": [
    "receipt_df['cosine_similarity'] = cosine_similarities.max(axis=1)"
   ]
  },
  {
   "cell_type": "markdown",
   "metadata": {},
   "source": [
    "- 유사한 항목 추가"
   ]
  },
  {
   "cell_type": "code",
   "execution_count": 100,
   "metadata": {},
   "outputs": [],
   "source": [
    "most_similar_indices = cosine_similarities.argmax(axis=1)\n",
    "most_similar_items = list_df.loc[most_similar_indices, 'title_mod'].values\n",
    "receipt_df['most_similar_item'] = most_similar_items\n",
    "receipt_df['point'] = list_df.loc[most_similar_indices, 'point'].values\n",
    "receipt_df['market'] = list_df.loc[most_similar_indices, 'market'].values"
   ]
  },
  {
   "cell_type": "code",
   "execution_count": 101,
   "metadata": {},
   "outputs": [
    {
     "data": {
      "text/html": [
       "<div>\n",
       "<style scoped>\n",
       "    .dataframe tbody tr th:only-of-type {\n",
       "        vertical-align: middle;\n",
       "    }\n",
       "\n",
       "    .dataframe tbody tr th {\n",
       "        vertical-align: top;\n",
       "    }\n",
       "\n",
       "    .dataframe thead th {\n",
       "        text-align: right;\n",
       "    }\n",
       "</style>\n",
       "<table border=\"1\" class=\"dataframe\">\n",
       "  <thead>\n",
       "    <tr style=\"text-align: right;\">\n",
       "      <th></th>\n",
       "      <th>title</th>\n",
       "      <th>cosine_similarity</th>\n",
       "      <th>most_similar_item</th>\n",
       "      <th>point</th>\n",
       "      <th>market</th>\n",
       "    </tr>\n",
       "  </thead>\n",
       "  <tbody>\n",
       "    <tr>\n",
       "      <th>0</th>\n",
       "      <td>겨</td>\n",
       "      <td>0.000000</td>\n",
       "      <td>수실류은행</td>\n",
       "      <td>10</td>\n",
       "      <td>로컬푸드 직매장</td>\n",
       "    </tr>\n",
       "    <tr>\n",
       "      <th>1</th>\n",
       "      <td>대</td>\n",
       "      <td>0.000000</td>\n",
       "      <td>수실류은행</td>\n",
       "      <td>10</td>\n",
       "      <td>로컬푸드 직매장</td>\n",
       "    </tr>\n",
       "    <tr>\n",
       "      <th>2</th>\n",
       "      <td>이마트 세충점</td>\n",
       "      <td>0.000000</td>\n",
       "      <td>수실류은행</td>\n",
       "      <td>10</td>\n",
       "      <td>로컬푸드 직매장</td>\n",
       "    </tr>\n",
       "    <tr>\n",
       "      <th>3</th>\n",
       "      <td>세종쪽별사치시</td>\n",
       "      <td>0.000000</td>\n",
       "      <td>수실류은행</td>\n",
       "      <td>10</td>\n",
       "      <td>로컬푸드 직매장</td>\n",
       "    </tr>\n",
       "    <tr>\n",
       "      <th>4</th>\n",
       "      <td>밥왼더블</td>\n",
       "      <td>0.000000</td>\n",
       "      <td>수실류은행</td>\n",
       "      <td>10</td>\n",
       "      <td>로컬푸드 직매장</td>\n",
       "    </tr>\n",
       "    <tr>\n",
       "      <th>5</th>\n",
       "      <td>호 시서자 쑥내</td>\n",
       "      <td>0.000000</td>\n",
       "      <td>수실류은행</td>\n",
       "      <td>10</td>\n",
       "      <td>로컬푸드 직매장</td>\n",
       "    </tr>\n",
       "    <tr>\n",
       "      <th>6</th>\n",
       "      <td>파프리카홀합</td>\n",
       "      <td>0.000000</td>\n",
       "      <td>수실류은행</td>\n",
       "      <td>10</td>\n",
       "      <td>로컬푸드 직매장</td>\n",
       "    </tr>\n",
       "    <tr>\n",
       "      <th>7</th>\n",
       "      <td>강원 애호박</td>\n",
       "      <td>1.000000</td>\n",
       "      <td>친환경 강원 애호박</td>\n",
       "      <td>60</td>\n",
       "      <td>이마트</td>\n",
       "    </tr>\n",
       "    <tr>\n",
       "      <th>8</th>\n",
       "      <td>덴부드러문치즈</td>\n",
       "      <td>0.000000</td>\n",
       "      <td>수실류은행</td>\n",
       "      <td>10</td>\n",
       "      <td>로컬푸드 직매장</td>\n",
       "    </tr>\n",
       "    <tr>\n",
       "      <th>9</th>\n",
       "      <td>항브로클리일불</td>\n",
       "      <td>0.000000</td>\n",
       "      <td>수실류은행</td>\n",
       "      <td>10</td>\n",
       "      <td>로컬푸드 직매장</td>\n",
       "    </tr>\n",
       "    <tr>\n",
       "      <th>10</th>\n",
       "      <td>후레쉬센터 흙대파</td>\n",
       "      <td>0.000000</td>\n",
       "      <td>수실류은행</td>\n",
       "      <td>10</td>\n",
       "      <td>로컬푸드 직매장</td>\n",
       "    </tr>\n",
       "    <tr>\n",
       "      <th>11</th>\n",
       "      <td>마칠에주스 포도</td>\n",
       "      <td>0.707107</td>\n",
       "      <td>유기농 포도</td>\n",
       "      <td>1270</td>\n",
       "      <td>두레생협</td>\n",
       "    </tr>\n",
       "    <tr>\n",
       "      <th>12</th>\n",
       "      <td>풀무원 서주도콩콩</td>\n",
       "      <td>0.707107</td>\n",
       "      <td>풀무원 샘물</td>\n",
       "      <td>1420</td>\n",
       "      <td>풀무원샘물</td>\n",
       "    </tr>\n",
       "    <tr>\n",
       "      <th>13</th>\n",
       "      <td>덴부드러문치즈</td>\n",
       "      <td>0.000000</td>\n",
       "      <td>수실류은행</td>\n",
       "      <td>10</td>\n",
       "      <td>로컬푸드 직매장</td>\n",
       "    </tr>\n",
       "    <tr>\n",
       "      <th>14</th>\n",
       "      <td>날양 맛있는무류</td>\n",
       "      <td>0.000000</td>\n",
       "      <td>수실류은행</td>\n",
       "      <td>10</td>\n",
       "      <td>로컬푸드 직매장</td>\n",
       "    </tr>\n",
       "    <tr>\n",
       "      <th>15</th>\n",
       "      <td>쿠리쌀 프레이</td>\n",
       "      <td>0.000000</td>\n",
       "      <td>수실류은행</td>\n",
       "      <td>10</td>\n",
       "      <td>로컬푸드 직매장</td>\n",
       "    </tr>\n",
       "    <tr>\n",
       "      <th>16</th>\n",
       "      <td>엘앤멤즈핏</td>\n",
       "      <td>0.000000</td>\n",
       "      <td>수실류은행</td>\n",
       "      <td>10</td>\n",
       "      <td>로컬푸드 직매장</td>\n",
       "    </tr>\n",
       "  </tbody>\n",
       "</table>\n",
       "</div>"
      ],
      "text/plain": [
       "        title  cosine_similarity most_similar_item  point    market\n",
       "0           겨           0.000000             수실류은행     10  로컬푸드 직매장\n",
       "1           대           0.000000             수실류은행     10  로컬푸드 직매장\n",
       "2     이마트 세충점           0.000000             수실류은행     10  로컬푸드 직매장\n",
       "3     세종쪽별사치시           0.000000             수실류은행     10  로컬푸드 직매장\n",
       "4        밥왼더블           0.000000             수실류은행     10  로컬푸드 직매장\n",
       "5    호 시서자 쑥내           0.000000             수실류은행     10  로컬푸드 직매장\n",
       "6      파프리카홀합           0.000000             수실류은행     10  로컬푸드 직매장\n",
       "7      강원 애호박           1.000000        친환경 강원 애호박     60       이마트\n",
       "8     덴부드러문치즈           0.000000             수실류은행     10  로컬푸드 직매장\n",
       "9     항브로클리일불           0.000000             수실류은행     10  로컬푸드 직매장\n",
       "10  후레쉬센터 흙대파           0.000000             수실류은행     10  로컬푸드 직매장\n",
       "11   마칠에주스 포도           0.707107            유기농 포도   1270      두레생협\n",
       "12  풀무원 서주도콩콩           0.707107            풀무원 샘물   1420     풀무원샘물\n",
       "13    덴부드러문치즈           0.000000             수실류은행     10  로컬푸드 직매장\n",
       "14  날양 맛있는무류            0.000000             수실류은행     10  로컬푸드 직매장\n",
       "15    쿠리쌀 프레이           0.000000             수실류은행     10  로컬푸드 직매장\n",
       "16      엘앤멤즈핏           0.000000             수실류은행     10  로컬푸드 직매장"
      ]
     },
     "execution_count": 101,
     "metadata": {},
     "output_type": "execute_result"
    }
   ],
   "source": [
    "receipt_df"
   ]
  },
  {
   "cell_type": "code",
   "execution_count": 102,
   "metadata": {},
   "outputs": [
    {
     "data": {
      "text/html": [
       "<div>\n",
       "<style scoped>\n",
       "    .dataframe tbody tr th:only-of-type {\n",
       "        vertical-align: middle;\n",
       "    }\n",
       "\n",
       "    .dataframe tbody tr th {\n",
       "        vertical-align: top;\n",
       "    }\n",
       "\n",
       "    .dataframe thead th {\n",
       "        text-align: right;\n",
       "    }\n",
       "</style>\n",
       "<table border=\"1\" class=\"dataframe\">\n",
       "  <thead>\n",
       "    <tr style=\"text-align: right;\">\n",
       "      <th></th>\n",
       "      <th>title</th>\n",
       "      <th>cosine_similarity</th>\n",
       "      <th>most_similar_item</th>\n",
       "      <th>point</th>\n",
       "      <th>market</th>\n",
       "    </tr>\n",
       "  </thead>\n",
       "  <tbody>\n",
       "    <tr>\n",
       "      <th>7</th>\n",
       "      <td>강원 애호박</td>\n",
       "      <td>1.000000</td>\n",
       "      <td>친환경 강원 애호박</td>\n",
       "      <td>60</td>\n",
       "      <td>이마트</td>\n",
       "    </tr>\n",
       "    <tr>\n",
       "      <th>11</th>\n",
       "      <td>마칠에주스 포도</td>\n",
       "      <td>0.707107</td>\n",
       "      <td>유기농 포도</td>\n",
       "      <td>1270</td>\n",
       "      <td>두레생협</td>\n",
       "    </tr>\n",
       "    <tr>\n",
       "      <th>12</th>\n",
       "      <td>풀무원 서주도콩콩</td>\n",
       "      <td>0.707107</td>\n",
       "      <td>풀무원 샘물</td>\n",
       "      <td>1420</td>\n",
       "      <td>풀무원샘물</td>\n",
       "    </tr>\n",
       "  </tbody>\n",
       "</table>\n",
       "</div>"
      ],
      "text/plain": [
       "        title  cosine_similarity most_similar_item  point market\n",
       "7      강원 애호박           1.000000        친환경 강원 애호박     60    이마트\n",
       "11   마칠에주스 포도           0.707107            유기농 포도   1270   두레생협\n",
       "12  풀무원 서주도콩콩           0.707107            풀무원 샘물   1420  풀무원샘물"
      ]
     },
     "execution_count": 102,
     "metadata": {},
     "output_type": "execute_result"
    }
   ],
   "source": [
    "# cosine_similarity의 값이 0.5 이상인 경우만 추출\n",
    "receipt_df = receipt_df[receipt_df['cosine_similarity'] >= 0.5]\n",
    "receipt_df"
   ]
  },
  {
   "cell_type": "code",
   "execution_count": 103,
   "metadata": {},
   "outputs": [
    {
     "data": {
      "text/plain": [
       "2750"
      ]
     },
     "execution_count": 103,
     "metadata": {},
     "output_type": "execute_result"
    }
   ],
   "source": [
    "# 포인트 합계\n",
    "receipt_df['point'].sum()"
   ]
  },
  {
   "cell_type": "code",
   "execution_count": 104,
   "metadata": {},
   "outputs": [
    {
     "name": "stdout",
     "output_type": "stream",
     "text": [
      "강원 애호박(60p)\n",
      "마칠에주스 포도(1270p)\n",
      "풀무원 서주도콩콩(1420p)\n",
      "\n",
      "총 2750p\n"
     ]
    }
   ],
   "source": [
    "###\n",
    "receipt_list = []\n",
    "point_list = []\n",
    "for i in receipt_df.index:\n",
    "    point_list.append(receipt_df['point'][i])\n",
    "    receipt_list.append(f'''{receipt_df['title'][i]}({str(receipt_df['point'][i])+'% 적립' if receipt_df['point'][i] == 10 else str(receipt_df['point'][i])+'p'})''')\n",
    "total_item = '\\n'.join(receipt_list)\n",
    "accu = 0\n",
    "t_point = 0\n",
    "for i in point_list:\n",
    "    if i == 10:\n",
    "        accu += i\n",
    "    else:\n",
    "        t_point += i\n",
    "\n",
    "if accu == 0:\n",
    "    total_point = f'\\n\\n총 {t_point}p'\n",
    "elif t_point == 0:\n",
    "    total_point = f'\\n\\n총 {accu}% 적립'\n",
    "else:\n",
    "    total_point = f'\\n\\n총 {accu}% 적립 + {t_point}p'\n",
    "\n",
    "total_result = total_item + total_point\n",
    "print(total_result)"
   ]
  },
  {
   "cell_type": "code",
   "execution_count": null,
   "metadata": {},
   "outputs": [],
   "source": []
  }
 ],
 "metadata": {
  "kernelspec": {
   "display_name": "base",
   "language": "python",
   "name": "python3"
  },
  "language_info": {
   "codemirror_mode": {
    "name": "ipython",
    "version": 3
   },
   "file_extension": ".py",
   "mimetype": "text/x-python",
   "name": "python",
   "nbconvert_exporter": "python",
   "pygments_lexer": "ipython3",
   "version": "3.11.5"
  }
 },
 "nbformat": 4,
 "nbformat_minor": 2
}
