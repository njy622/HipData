{
 "cells": [
  {
   "cell_type": "markdown",
   "metadata": {},
   "source": [
    "### OpenWeather API 2.5"
   ]
  },
  {
   "cell_type": "code",
   "execution_count": 16,
   "metadata": {},
   "outputs": [],
   "source": [
    "with open('../static/keys/OpenWeatherApiKey.txt') as file:\n",
    "    weather_key = file.read()"
   ]
  },
  {
   "cell_type": "code",
   "execution_count": 19,
   "metadata": {},
   "outputs": [
    {
     "data": {
      "text/plain": [
       "{'coord': {'lon': 126.8964, 'lat': 37.536},\n",
       " 'weather': [{'id': 803,\n",
       "   'main': 'Clouds',\n",
       "   'description': '튼구름',\n",
       "   'icon': '04d'}],\n",
       " 'base': 'stations',\n",
       " 'main': {'temp': 23.75,\n",
       "  'feels_like': 24.22,\n",
       "  'temp_min': 23.03,\n",
       "  'temp_max': 24.01,\n",
       "  'pressure': 1011,\n",
       "  'humidity': 78},\n",
       " 'visibility': 10000,\n",
       " 'wind': {'speed': 1.54, 'deg': 300},\n",
       " 'clouds': {'all': 75},\n",
       " 'dt': 1695796175,\n",
       " 'sys': {'type': 1,\n",
       "  'id': 8105,\n",
       "  'country': 'KR',\n",
       "  'sunrise': 1695763421,\n",
       "  'sunset': 1695806617},\n",
       " 'timezone': 32400,\n",
       " 'id': 1837055,\n",
       " 'name': 'Yongsan',\n",
       " 'cod': 200}"
      ]
     },
     "execution_count": 19,
     "metadata": {},
     "output_type": "execute_result"
    }
   ],
   "source": [
    "import requests\n",
    "base_url = 'https://api.openweathermap.org/data/2.5/weather'\n",
    "lat, lng = 37.5360, 126.8964\n",
    "url = f'{base_url}?lat={lat}&lon={lng}&appid={weather_key}&units=metric&lang=kr'\n",
    "result = requests.get(url).json()\n",
    "result"
   ]
  },
  {
   "cell_type": "code",
   "execution_count": 26,
   "metadata": {},
   "outputs": [
    {
     "data": {
      "text/plain": [
       "23.75"
      ]
     },
     "execution_count": 26,
     "metadata": {},
     "output_type": "execute_result"
    }
   ],
   "source": [
    "temp = result['main']['temp']\n",
    "temp"
   ]
  },
  {
   "cell_type": "code",
   "execution_count": 21,
   "metadata": {},
   "outputs": [
    {
     "data": {
      "text/plain": [
       "[{'id': 803, 'main': 'Clouds', 'description': '튼구름', 'icon': '04d'}]"
      ]
     },
     "execution_count": 21,
     "metadata": {},
     "output_type": "execute_result"
    }
   ],
   "source": [
    "result['weather']"
   ]
  },
  {
   "cell_type": "code",
   "execution_count": 24,
   "metadata": {},
   "outputs": [
    {
     "data": {
      "text/plain": [
       "'튼구름'"
      ]
     },
     "execution_count": 24,
     "metadata": {},
     "output_type": "execute_result"
    }
   ],
   "source": [
    "desc = result['weather'][0]['description']\n",
    "desc"
   ]
  },
  {
   "cell_type": "code",
   "execution_count": 25,
   "metadata": {},
   "outputs": [],
   "source": [
    "icon_code = result['weather'][0]['icon']"
   ]
  },
  {
   "cell_type": "code",
   "execution_count": 44,
   "metadata": {},
   "outputs": [],
   "source": [
    "icon_url = f'http://openweathermap.org/img/wn/{icon_code}.png'"
   ]
  },
  {
   "cell_type": "code",
   "execution_count": 45,
   "metadata": {},
   "outputs": [
    {
     "data": {
      "image/png": "[encoded data removed]",
      "text/plain": [
       "<Figure size 640x480 with 1 Axes>"
      ]
     },
     "metadata": {},
     "output_type": "display_data"
    }
   ],
   "source": [
    "import urllib\n",
    "from PIL import Image\n",
    "import matplotlib.pyplot as plt\n",
    "urllib.request.urlretrieve(icon_url, '../static/img/icon.png')\n",
    "img = Image.open('../static/img/icon.png')\n",
    "plt.imshow(img), plt.axis('off');\n"
   ]
  },
  {
   "cell_type": "code",
   "execution_count": 35,
   "metadata": {},
   "outputs": [
    {
     "data": {
      "text/plain": [
       "'<img src=\"http://api.openweathermap.org/img/w/04d.png\" height=\"32\"><strong>튼구름</strong>,\\n            온도:&nbsp;<strong>23.8</strong>&#8451;\\n'"
      ]
     },
     "execution_count": 35,
     "metadata": {},
     "output_type": "execute_result"
    }
   ],
   "source": [
    "html = f'''<img src=\"{icon_url}\" height=\"32\"><strong>{desc}</strong>,\n",
    "            온도:&nbsp;<strong>{temp:.1f}</strong>&#8451;\n",
    "'''\n",
    "html"
   ]
  },
  {
   "cell_type": "code",
   "execution_count": null,
   "metadata": {},
   "outputs": [],
   "source": []
  }
 ],
 "metadata": {
  "kernelspec": {
   "display_name": "base",
   "language": "python",
   "name": "python3"
  },
  "language_info": {
   "codemirror_mode": {
    "name": "ipython",
    "version": 3
   },
   "file_extension": ".py",
   "mimetype": "text/x-python",
   "name": "python",
   "nbconvert_exporter": "python",
   "pygments_lexer": "ipython3",
   "version": "3.11.4"
  },
  "orig_nbformat": 4
 },
 "nbformat": 4,
 "nbformat_minor": 2
}
