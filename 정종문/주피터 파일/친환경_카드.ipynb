{
 "cells": [
  {
   "cell_type": "code",
   "execution_count": 3,
   "metadata": {},
   "outputs": [
    {
     "data": {
      "text/html": [
       "<div>\n",
       "<style scoped>\n",
       "    .dataframe tbody tr th:only-of-type {\n",
       "        vertical-align: middle;\n",
       "    }\n",
       "\n",
       "    .dataframe tbody tr th {\n",
       "        vertical-align: top;\n",
       "    }\n",
       "\n",
       "    .dataframe thead th {\n",
       "        text-align: right;\n",
       "    }\n",
       "</style>\n",
       "<table border=\"1\" class=\"dataframe\">\n",
       "  <thead>\n",
       "    <tr style=\"text-align: right;\">\n",
       "      <th></th>\n",
       "      <th>은행/카드사</th>\n",
       "      <th>카드명</th>\n",
       "      <th>혜택</th>\n",
       "      <th>전월실적</th>\n",
       "      <th>연회비(국내/해외겸용)</th>\n",
       "    </tr>\n",
       "  </thead>\n",
       "  <tbody>\n",
       "    <tr>\n",
       "      <th>0</th>\n",
       "      <td>삼성카드</td>\n",
       "      <td>삼성 iD EV 카드</td>\n",
       "      <td>전기차 충전 50%·70%할인 || 주차장·하이패스·대리운전·배달앱 10% 할인 ...</td>\n",
       "      <td>30만원 이상</td>\n",
       "      <td>15000원</td>\n",
       "    </tr>\n",
       "    <tr>\n",
       "      <th>1</th>\n",
       "      <td>삼성카드</td>\n",
       "      <td>삼성 iD ENERGY 카드</td>\n",
       "      <td>주유 10000원 할인 || 대중교통·택시·전기차 충전·주차장·대리운전 10% 할...</td>\n",
       "      <td>50만원 이상</td>\n",
       "      <td>20000원</td>\n",
       "    </tr>\n",
       "    <tr>\n",
       "      <th>2</th>\n",
       "      <td>우리카드</td>\n",
       "      <td>NU Nature</td>\n",
       "      <td>전기차 충전 60% 적립 || 대중교통 10% 적립 || 스트리밍 정기결제 10%...</td>\n",
       "      <td>30만원 이상</td>\n",
       "      <td>12000원</td>\n",
       "    </tr>\n",
       "    <tr>\n",
       "      <th>3</th>\n",
       "      <td>KB국민카드</td>\n",
       "      <td>Green Wave 1.5℃카드</td>\n",
       "      <td>전기/수소차 충전·대중교통 10% 적립 || 공유 모빌리티(자전거·킥보드 등)·친...</td>\n",
       "      <td>40만원 이상</td>\n",
       "      <td>15000원</td>\n",
       "    </tr>\n",
       "    <tr>\n",
       "      <th>4</th>\n",
       "      <td>NH농협카드</td>\n",
       "      <td>국민행복카드</td>\n",
       "      <td>병원·조산원·산후조리원·대중교통·온라인 쇼핑몰(쿠팡·11번가 등) 5% 할인 ||...</td>\n",
       "      <td>30만원 이상</td>\n",
       "      <td>없음</td>\n",
       "    </tr>\n",
       "  </tbody>\n",
       "</table>\n",
       "</div>"
      ],
      "text/plain": [
       "   은행/카드사                 카드명  \\\n",
       "0    삼성카드         삼성 iD EV 카드   \n",
       "1    삼성카드     삼성 iD ENERGY 카드   \n",
       "2    우리카드           NU Nature   \n",
       "3  KB국민카드   Green Wave 1.5℃카드   \n",
       "4  NH농협카드              국민행복카드   \n",
       "\n",
       "                                                  혜택      전월실적  연회비(국내/해외겸용)  \n",
       "0   전기차 충전 50%·70%할인 || 주차장·하이패스·대리운전·배달앱 10% 할인 ...   30만원 이상        15000원  \n",
       "1   주유 10000원 할인 || 대중교통·택시·전기차 충전·주차장·대리운전 10% 할...   50만원 이상        20000원  \n",
       "2   전기차 충전 60% 적립 || 대중교통 10% 적립 || 스트리밍 정기결제 10%...   30만원 이상        12000원  \n",
       "3   전기/수소차 충전·대중교통 10% 적립 || 공유 모빌리티(자전거·킥보드 등)·친...   40만원 이상        15000원  \n",
       "4   병원·조산원·산후조리원·대중교통·온라인 쇼핑몰(쿠팡·11번가 등) 5% 할인 ||...   30만원 이상            없음  "
      ]
     },
     "execution_count": 3,
     "metadata": {},
     "output_type": "execute_result"
    }
   ],
   "source": [
    "import pandas as pd\n",
    "\n",
    "df = pd.read_csv('data/친환경 카드.csv')\n",
    "df.head()"
   ]
  },
  {
   "cell_type": "code",
   "execution_count": null,
   "metadata": {},
   "outputs": [],
   "source": []
  }
 ],
 "metadata": {
  "kernelspec": {
   "display_name": "base",
   "language": "python",
   "name": "python3"
  },
  "language_info": {
   "codemirror_mode": {
    "name": "ipython",
    "version": 3
   },
   "file_extension": ".py",
   "mimetype": "text/x-python",
   "name": "python",
   "nbconvert_exporter": "python",
   "pygments_lexer": "ipython3",
   "version": "3.11.5"
  }
 },
 "nbformat": 4,
 "nbformat_minor": 2
}
