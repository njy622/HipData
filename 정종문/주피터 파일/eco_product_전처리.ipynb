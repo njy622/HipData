{
 "cells": [
  {
   "cell_type": "markdown",
   "metadata": {},
   "source": [
    "## eco_product (친환경 제품) 전처리"
   ]
  },
  {
   "cell_type": "code",
   "execution_count": 28,
   "metadata": {},
   "outputs": [],
   "source": [
    "import pandas as pd\n",
    "import re"
   ]
  },
  {
   "cell_type": "code",
   "execution_count": 29,
   "metadata": {},
   "outputs": [],
   "source": [
    "# 전처리 전 데이터 불러오기\n",
    "list_df = pd.read_csv('data/친환경 제품(초안).csv')\n"
   ]
  },
  {
   "cell_type": "code",
   "execution_count": 30,
   "metadata": {},
   "outputs": [],
   "source": [
    "# 중복 데이터 제거\n",
    "list_df.drop_duplicates(subset=['title'], inplace=True)\n"
   ]
  },
  {
   "cell_type": "code",
   "execution_count": 31,
   "metadata": {},
   "outputs": [],
   "source": [
    "# 불필요한 문자 제거\n",
    "list_df['title_mod'] = list_df['title'].apply(lambda x: re.sub(r'\\([^)]*\\)', '', x))\n",
    "list_df['title_mod'] = list_df['title_mod'].apply(lambda x: re.sub(r'\\[[^)]*\\]', '', x))\n",
    "list_df['title_mod'] = list_df['title_mod'].apply(lambda x: re.sub(r'[^ ㄱ-ㅣ가-힣]+', '', x))\n",
    "list_df['point'] = list_df['point'].apply(lambda x: re.sub(r'[^0-9]+', '', x))\n",
    "list_df['point'] = list_df['point'].astype(int)\n"
   ]
  },
  {
   "cell_type": "code",
   "execution_count": 32,
   "metadata": {},
   "outputs": [],
   "source": [
    "# 인덱스 정렬\n",
    "list_df.set_index('title', inplace=True)\n",
    "list_df.reset_index(inplace=True)\n"
   ]
  },
  {
   "cell_type": "code",
   "execution_count": 33,
   "metadata": {},
   "outputs": [],
   "source": [
    "# 컬럼별 공백 제거\n",
    "list_df['market'] = list_df['market'].str.lstrip(' ')\n",
    "list_df['title'] = list_df['title'].str.lstrip(' ')\n",
    "list_df['title_mod'] = list_df['title_mod'].str.lstrip(' ')\n"
   ]
  },
  {
   "cell_type": "code",
   "execution_count": 34,
   "metadata": {},
   "outputs": [
    {
     "data": {
      "text/plain": [
       "310    춘천시장애인근로사업장\n",
       "311    춘천시장애인근로사업장\n",
       "312    춘천시장애인근로사업장\n",
       "313    춘천시장애인근로사업장\n",
       "314    춘천시장애인근로사업장\n",
       "315    춘천시장애인근로사업장\n",
       "316    춘천시장애인근로사업장\n",
       "317    춘천시장애인근로사업장\n",
       "318    춘천시장애인근로사업장\n",
       "319    춘천시장애인근로사업장\n",
       "Name: market, dtype: object"
      ]
     },
     "execution_count": 34,
     "metadata": {},
     "output_type": "execute_result"
    }
   ],
   "source": [
    "# (10/24 추가) 검색 안되는 매장 처리\n",
    "list_df['market'] = list_df['market'].str.replace(\n",
    "    '(사)한국지체장애인협회(춘천시장애인근로사업장)', '춘천시장애인근로사업장')\n",
    "list_df['market'][310:320]"
   ]
  },
  {
   "cell_type": "code",
   "execution_count": 35,
   "metadata": {},
   "outputs": [
    {
     "data": {
      "text/html": [
       "<div>\n",
       "<style scoped>\n",
       "    .dataframe tbody tr th:only-of-type {\n",
       "        vertical-align: middle;\n",
       "    }\n",
       "\n",
       "    .dataframe tbody tr th {\n",
       "        vertical-align: top;\n",
       "    }\n",
       "\n",
       "    .dataframe thead th {\n",
       "        text-align: right;\n",
       "    }\n",
       "</style>\n",
       "<table border=\"1\" class=\"dataframe\">\n",
       "  <thead>\n",
       "    <tr style=\"text-align: right;\">\n",
       "      <th></th>\n",
       "      <th>title</th>\n",
       "      <th>point</th>\n",
       "      <th>market</th>\n",
       "      <th>title_mod</th>\n",
       "    </tr>\n",
       "  </thead>\n",
       "  <tbody>\n",
       "    <tr>\n",
       "      <th>0</th>\n",
       "      <td>수실류-은행</td>\n",
       "      <td>10</td>\n",
       "      <td>로컬푸드 직매장</td>\n",
       "      <td>수실류은행</td>\n",
       "    </tr>\n",
       "    <tr>\n",
       "      <th>1</th>\n",
       "      <td>수실류-호두</td>\n",
       "      <td>10</td>\n",
       "      <td>로컬푸드 직매장</td>\n",
       "      <td>수실류호두</td>\n",
       "    </tr>\n",
       "    <tr>\n",
       "      <th>2</th>\n",
       "      <td>수실류-대추</td>\n",
       "      <td>10</td>\n",
       "      <td>로컬푸드 직매장</td>\n",
       "      <td>수실류대추</td>\n",
       "    </tr>\n",
       "    <tr>\n",
       "      <th>3</th>\n",
       "      <td>수실류-밤</td>\n",
       "      <td>10</td>\n",
       "      <td>로컬푸드 직매장</td>\n",
       "      <td>수실류밤</td>\n",
       "    </tr>\n",
       "    <tr>\n",
       "      <th>4</th>\n",
       "      <td>과실류-기타</td>\n",
       "      <td>10</td>\n",
       "      <td>로컬푸드 직매장</td>\n",
       "      <td>과실류기타</td>\n",
       "    </tr>\n",
       "  </tbody>\n",
       "</table>\n",
       "</div>"
      ],
      "text/plain": [
       "    title  point    market title_mod\n",
       "0  수실류-은행     10  로컬푸드 직매장     수실류은행\n",
       "1  수실류-호두     10  로컬푸드 직매장     수실류호두\n",
       "2  수실류-대추     10  로컬푸드 직매장     수실류대추\n",
       "3   수실류-밤     10  로컬푸드 직매장      수실류밤\n",
       "4  과실류-기타     10  로컬푸드 직매장     과실류기타"
      ]
     },
     "execution_count": 35,
     "metadata": {},
     "output_type": "execute_result"
    }
   ],
   "source": [
    "# 최종본으로 저장\n",
    "list_df.to_csv('data/eco_product.csv', index=False)\n",
    "list_df.head()"
   ]
  }
 ],
 "metadata": {
  "kernelspec": {
   "display_name": "base",
   "language": "python",
   "name": "python3"
  },
  "language_info": {
   "codemirror_mode": {
    "name": "ipython",
    "version": 3
   },
   "file_extension": ".py",
   "mimetype": "text/x-python",
   "name": "python",
   "nbconvert_exporter": "python",
   "pygments_lexer": "ipython3",
   "version": "3.11.5"
  }
 },
 "nbformat": 4,
 "nbformat_minor": 2
}
