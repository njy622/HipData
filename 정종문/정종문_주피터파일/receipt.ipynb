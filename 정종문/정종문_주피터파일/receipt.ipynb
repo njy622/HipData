{
 "cells": [
  {
   "cell_type": "markdown",
   "metadata": {},
   "source": [
    "### 영수증으로 얻을 수 있는 포인트 알아보기"
   ]
  },
  {
   "cell_type": "code",
   "execution_count": 21,
   "metadata": {},
   "outputs": [],
   "source": [
    "import numpy as np\n",
    "import pandas as pd\n",
    "import re\n",
    "from sklearn.feature_extraction.text import TfidfVectorizer\n",
    "from sklearn.metrics.pairwise import cosine_similarity"
   ]
  },
  {
   "cell_type": "markdown",
   "metadata": {},
   "source": [
    "##### 01. 데이터프레임 생성\n",
    "- 영수증 전처리"
   ]
  },
  {
   "cell_type": "code",
   "execution_count": 22,
   "metadata": {},
   "outputs": [
    {
     "data": {
      "text/html": [
       "<div>\n",
       "<style scoped>\n",
       "    .dataframe tbody tr th:only-of-type {\n",
       "        vertical-align: middle;\n",
       "    }\n",
       "\n",
       "    .dataframe tbody tr th {\n",
       "        vertical-align: top;\n",
       "    }\n",
       "\n",
       "    .dataframe thead th {\n",
       "        text-align: right;\n",
       "    }\n",
       "</style>\n",
       "<table border=\"1\" class=\"dataframe\">\n",
       "  <thead>\n",
       "    <tr style=\"text-align: right;\">\n",
       "      <th></th>\n",
       "      <th>title</th>\n",
       "    </tr>\n",
       "  </thead>\n",
       "  <tbody>\n",
       "    <tr>\n",
       "      <th>0</th>\n",
       "      <td>다 졸고오</td>\n",
       "    </tr>\n",
       "    <tr>\n",
       "      <th>1</th>\n",
       "      <td>세특보시치시</td>\n",
       "    </tr>\n",
       "    <tr>\n",
       "      <th>2</th>\n",
       "      <td>행브로클리</td>\n",
       "    </tr>\n",
       "    <tr>\n",
       "      <th>3</th>\n",
       "      <td>후레취벤터 다이</td>\n",
       "    </tr>\n",
       "    <tr>\n",
       "      <th>4</th>\n",
       "      <td>에우 포도</td>\n",
       "    </tr>\n",
       "    <tr>\n",
       "      <th>5</th>\n",
       "      <td>세주도콩콜</td>\n",
       "    </tr>\n",
       "    <tr>\n",
       "      <th>6</th>\n",
       "      <td>드준치즈</td>\n",
       "    </tr>\n",
       "  </tbody>\n",
       "</table>\n",
       "</div>"
      ],
      "text/plain": [
       "      title\n",
       "0     다 졸고오\n",
       "1   세특보시치시 \n",
       "2     행브로클리\n",
       "3  후레취벤터 다이\n",
       "4    에우 포도 \n",
       "5     세주도콩콜\n",
       "6      드준치즈"
      ]
     },
     "execution_count": 22,
     "metadata": {},
     "output_type": "execute_result"
    }
   ],
   "source": [
    "receipt_data = '''\n",
    "6008다 졸고오\n",
    "\n",
    "세@특보시치시 2\n",
    "\n",
    "행브로클리,\n",
    "후레취벤터 [다이\n",
    "에우 포도1 #\n",
    "4 세주도콩콜\n",
    "드준치즈052\n",
    "'''\n",
    "receipt = receipt_data.split('\\n')\n",
    "receipt_df = pd.DataFrame(receipt, columns=['title'])\n",
    "receipt_df['title'] = receipt_df['title'].apply(lambda x: re.sub('[^가-힣 ]', '', x))\n",
    "receipt_df = receipt_df[receipt_df.title != '']\n",
    "receipt_df.set_index('title', inplace=True)\n",
    "receipt_df.reset_index(inplace=True)\n",
    "receipt_df"
   ]
  },
  {
   "cell_type": "markdown",
   "metadata": {},
   "source": [
    "- 리스트 전처리"
   ]
  },
  {
   "cell_type": "code",
   "execution_count": 23,
   "metadata": {},
   "outputs": [
    {
     "data": {
      "text/html": [
       "<div>\n",
       "<style scoped>\n",
       "    .dataframe tbody tr th:only-of-type {\n",
       "        vertical-align: middle;\n",
       "    }\n",
       "\n",
       "    .dataframe tbody tr th {\n",
       "        vertical-align: top;\n",
       "    }\n",
       "\n",
       "    .dataframe thead th {\n",
       "        text-align: right;\n",
       "    }\n",
       "</style>\n",
       "<table border=\"1\" class=\"dataframe\">\n",
       "  <thead>\n",
       "    <tr style=\"text-align: right;\">\n",
       "      <th></th>\n",
       "      <th>title</th>\n",
       "      <th>point</th>\n",
       "      <th>market</th>\n",
       "      <th>title_mod</th>\n",
       "    </tr>\n",
       "  </thead>\n",
       "  <tbody>\n",
       "    <tr>\n",
       "      <th>0</th>\n",
       "      <td>수실류-은행</td>\n",
       "      <td>10</td>\n",
       "      <td>로컬푸드 직매장</td>\n",
       "      <td>수실류은행</td>\n",
       "    </tr>\n",
       "    <tr>\n",
       "      <th>1</th>\n",
       "      <td>수실류-호두</td>\n",
       "      <td>10</td>\n",
       "      <td>로컬푸드 직매장</td>\n",
       "      <td>수실류호두</td>\n",
       "    </tr>\n",
       "    <tr>\n",
       "      <th>2</th>\n",
       "      <td>수실류-대추</td>\n",
       "      <td>10</td>\n",
       "      <td>로컬푸드 직매장</td>\n",
       "      <td>수실류대추</td>\n",
       "    </tr>\n",
       "    <tr>\n",
       "      <th>3</th>\n",
       "      <td>수실류-밤</td>\n",
       "      <td>10</td>\n",
       "      <td>로컬푸드 직매장</td>\n",
       "      <td>수실류밤</td>\n",
       "    </tr>\n",
       "    <tr>\n",
       "      <th>4</th>\n",
       "      <td>과실류-기타</td>\n",
       "      <td>10</td>\n",
       "      <td>로컬푸드 직매장</td>\n",
       "      <td>과실류기타</td>\n",
       "    </tr>\n",
       "  </tbody>\n",
       "</table>\n",
       "</div>"
      ],
      "text/plain": [
       "    title  point    market title_mod\n",
       "0  수실류-은행     10  로컬푸드 직매장     수실류은행\n",
       "1  수실류-호두     10  로컬푸드 직매장     수실류호두\n",
       "2  수실류-대추     10  로컬푸드 직매장     수실류대추\n",
       "3   수실류-밤     10  로컬푸드 직매장      수실류밤\n",
       "4  과실류-기타     10  로컬푸드 직매장     과실류기타"
      ]
     },
     "execution_count": 23,
     "metadata": {},
     "output_type": "execute_result"
    }
   ],
   "source": [
    "# 전처리 전 데이터 불러오기\n",
    "list_df = pd.read_csv('../data/친환경 제품(초안).csv')\n",
    "# 중복 데이터 제거\n",
    "list_df.drop_duplicates(subset=['title'], inplace=True)\n",
    "# 불필요한 문자 제거\n",
    "list_df['title_mod'] = list_df['title'].apply(lambda x: re.sub(r'\\([^)]*\\)', '', x))\n",
    "list_df['title_mod'] = list_df['title_mod'].apply(lambda x: re.sub(r'\\[[^)]*\\]', '', x))\n",
    "list_df['title_mod'] = list_df['title_mod'].apply(lambda x: re.sub(r'[^ ㄱ-ㅣ가-힣]+', '', x))\n",
    "list_df['point'] = list_df['point'].apply(lambda x: re.sub(r'[^0-9]+', '', x))\n",
    "list_df['point'] = list_df['point'].astype(int)\n",
    "# 인덱스 정렬\n",
    "list_df.set_index('title', inplace=True)\n",
    "list_df.reset_index(inplace=True)\n",
    "# 컬럼별 공백 제거\n",
    "list_df['market'] = list_df['market'].str.lstrip(' ')\n",
    "list_df['title'] = list_df['title'].str.lstrip(' ')\n",
    "list_df['title_mod'] = list_df['title_mod'].str.lstrip(' ')\n",
    "# 최종본으로 저장\n",
    "# list_df.to_csv('data/eco_product.csv', index=False)\n",
    "list_df.head()"
   ]
  },
  {
   "cell_type": "markdown",
   "metadata": {},
   "source": [
    "##### 02. 유사도 검사\n",
    "- TF-IDF 벡터화"
   ]
  },
  {
   "cell_type": "code",
   "execution_count": 24,
   "metadata": {},
   "outputs": [],
   "source": [
    "tv = TfidfVectorizer()\n",
    "receipt_tv = tv.fit_transform(receipt_df['title'])\n",
    "list_tv = tv.transform(list_df['title_mod'])"
   ]
  },
  {
   "cell_type": "markdown",
   "metadata": {},
   "source": [
    "- 코사인 유사도 계산"
   ]
  },
  {
   "cell_type": "code",
   "execution_count": 25,
   "metadata": {},
   "outputs": [],
   "source": [
    "cosine_similarities = cosine_similarity(receipt_tv, list_tv)\n"
   ]
  },
  {
   "cell_type": "markdown",
   "metadata": {},
   "source": [
    "- 유사도 컬럼으로 추가"
   ]
  },
  {
   "cell_type": "code",
   "execution_count": 26,
   "metadata": {},
   "outputs": [],
   "source": [
    "receipt_df['cosine_similarity'] = cosine_similarities.max(axis=1)"
   ]
  },
  {
   "cell_type": "markdown",
   "metadata": {},
   "source": [
    "- 유사한 항목 추가"
   ]
  },
  {
   "cell_type": "code",
   "execution_count": 27,
   "metadata": {},
   "outputs": [],
   "source": [
    "most_similar_indices = cosine_similarities.argmax(axis=1)\n",
    "most_similar_items = list_df.loc[most_similar_indices, 'title_mod'].values\n",
    "receipt_df['most_similar_item'] = most_similar_items\n",
    "receipt_df['point'] = list_df.loc[most_similar_indices, 'point'].values\n",
    "receipt_df['market'] = list_df.loc[most_similar_indices, 'market'].values"
   ]
  },
  {
   "cell_type": "code",
   "execution_count": 28,
   "metadata": {},
   "outputs": [
    {
     "data": {
      "text/html": [
       "<div>\n",
       "<style scoped>\n",
       "    .dataframe tbody tr th:only-of-type {\n",
       "        vertical-align: middle;\n",
       "    }\n",
       "\n",
       "    .dataframe tbody tr th {\n",
       "        vertical-align: top;\n",
       "    }\n",
       "\n",
       "    .dataframe thead th {\n",
       "        text-align: right;\n",
       "    }\n",
       "</style>\n",
       "<table border=\"1\" class=\"dataframe\">\n",
       "  <thead>\n",
       "    <tr style=\"text-align: right;\">\n",
       "      <th></th>\n",
       "      <th>title</th>\n",
       "      <th>cosine_similarity</th>\n",
       "      <th>most_similar_item</th>\n",
       "      <th>point</th>\n",
       "      <th>market</th>\n",
       "    </tr>\n",
       "  </thead>\n",
       "  <tbody>\n",
       "    <tr>\n",
       "      <th>0</th>\n",
       "      <td>다 졸고오</td>\n",
       "      <td>0.000000</td>\n",
       "      <td>수실류은행</td>\n",
       "      <td>10</td>\n",
       "      <td>로컬푸드 직매장</td>\n",
       "    </tr>\n",
       "    <tr>\n",
       "      <th>1</th>\n",
       "      <td>세특보시치시</td>\n",
       "      <td>0.000000</td>\n",
       "      <td>수실류은행</td>\n",
       "      <td>10</td>\n",
       "      <td>로컬푸드 직매장</td>\n",
       "    </tr>\n",
       "    <tr>\n",
       "      <th>2</th>\n",
       "      <td>행브로클리</td>\n",
       "      <td>0.000000</td>\n",
       "      <td>수실류은행</td>\n",
       "      <td>10</td>\n",
       "      <td>로컬푸드 직매장</td>\n",
       "    </tr>\n",
       "    <tr>\n",
       "      <th>3</th>\n",
       "      <td>후레취벤터 다이</td>\n",
       "      <td>0.000000</td>\n",
       "      <td>수실류은행</td>\n",
       "      <td>10</td>\n",
       "      <td>로컬푸드 직매장</td>\n",
       "    </tr>\n",
       "    <tr>\n",
       "      <th>4</th>\n",
       "      <td>에우 포도</td>\n",
       "      <td>0.707107</td>\n",
       "      <td>유기농 포도</td>\n",
       "      <td>1270</td>\n",
       "      <td>두레생협</td>\n",
       "    </tr>\n",
       "    <tr>\n",
       "      <th>5</th>\n",
       "      <td>세주도콩콜</td>\n",
       "      <td>0.000000</td>\n",
       "      <td>수실류은행</td>\n",
       "      <td>10</td>\n",
       "      <td>로컬푸드 직매장</td>\n",
       "    </tr>\n",
       "    <tr>\n",
       "      <th>6</th>\n",
       "      <td>드준치즈</td>\n",
       "      <td>0.000000</td>\n",
       "      <td>수실류은행</td>\n",
       "      <td>10</td>\n",
       "      <td>로컬푸드 직매장</td>\n",
       "    </tr>\n",
       "  </tbody>\n",
       "</table>\n",
       "</div>"
      ],
      "text/plain": [
       "      title  cosine_similarity most_similar_item  point    market\n",
       "0     다 졸고오           0.000000             수실류은행     10  로컬푸드 직매장\n",
       "1   세특보시치시            0.000000             수실류은행     10  로컬푸드 직매장\n",
       "2     행브로클리           0.000000             수실류은행     10  로컬푸드 직매장\n",
       "3  후레취벤터 다이           0.000000             수실류은행     10  로컬푸드 직매장\n",
       "4    에우 포도            0.707107            유기농 포도   1270      두레생협\n",
       "5     세주도콩콜           0.000000             수실류은행     10  로컬푸드 직매장\n",
       "6      드준치즈           0.000000             수실류은행     10  로컬푸드 직매장"
      ]
     },
     "execution_count": 28,
     "metadata": {},
     "output_type": "execute_result"
    }
   ],
   "source": [
    "receipt_df"
   ]
  },
  {
   "cell_type": "code",
   "execution_count": 29,
   "metadata": {},
   "outputs": [
    {
     "data": {
      "text/html": [
       "<div>\n",
       "<style scoped>\n",
       "    .dataframe tbody tr th:only-of-type {\n",
       "        vertical-align: middle;\n",
       "    }\n",
       "\n",
       "    .dataframe tbody tr th {\n",
       "        vertical-align: top;\n",
       "    }\n",
       "\n",
       "    .dataframe thead th {\n",
       "        text-align: right;\n",
       "    }\n",
       "</style>\n",
       "<table border=\"1\" class=\"dataframe\">\n",
       "  <thead>\n",
       "    <tr style=\"text-align: right;\">\n",
       "      <th></th>\n",
       "      <th>title</th>\n",
       "      <th>cosine_similarity</th>\n",
       "      <th>most_similar_item</th>\n",
       "      <th>point</th>\n",
       "      <th>market</th>\n",
       "    </tr>\n",
       "  </thead>\n",
       "  <tbody>\n",
       "    <tr>\n",
       "      <th>4</th>\n",
       "      <td>에우 포도</td>\n",
       "      <td>0.707107</td>\n",
       "      <td>유기농 포도</td>\n",
       "      <td>1270</td>\n",
       "      <td>두레생협</td>\n",
       "    </tr>\n",
       "  </tbody>\n",
       "</table>\n",
       "</div>"
      ],
      "text/plain": [
       "    title  cosine_similarity most_similar_item  point market\n",
       "4  에우 포도            0.707107            유기농 포도   1270   두레생협"
      ]
     },
     "execution_count": 29,
     "metadata": {},
     "output_type": "execute_result"
    }
   ],
   "source": [
    "# cosine_similarity의 값이 0.5 이상인 경우만 추출\n",
    "receipt_df = receipt_df[receipt_df['cosine_similarity'] >= 0.5]\n",
    "receipt_df"
   ]
  },
  {
   "cell_type": "code",
   "execution_count": 30,
   "metadata": {},
   "outputs": [
    {
     "data": {
      "text/plain": [
       "1270"
      ]
     },
     "execution_count": 30,
     "metadata": {},
     "output_type": "execute_result"
    }
   ],
   "source": [
    "# 포인트 합계\n",
    "receipt_df['point'].sum()"
   ]
  },
  {
   "cell_type": "markdown",
   "metadata": {},
   "source": [
    "def get_similarty(list, receipt)"
   ]
  }
 ],
 "metadata": {
  "kernelspec": {
   "display_name": "base",
   "language": "python",
   "name": "python3"
  },
  "language_info": {
   "codemirror_mode": {
    "name": "ipython",
    "version": 3
   },
   "file_extension": ".py",
   "mimetype": "text/x-python",
   "name": "python",
   "nbconvert_exporter": "python",
   "pygments_lexer": "ipython3",
   "version": "3.11.4"
  }
 },
 "nbformat": 4,
 "nbformat_minor": 2
}
