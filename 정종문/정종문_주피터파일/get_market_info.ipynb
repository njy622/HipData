{
 "cells": [
  {
   "cell_type": "markdown",
   "metadata": {},
   "source": [
    "### 입력한 주소 근처에 매장이 있는지 알아보기"
   ]
  },
  {
   "cell_type": "code",
   "execution_count": 41,
   "metadata": {},
   "outputs": [],
   "source": [
    "import requests\n",
    "import util.item_analysis as ui\n",
    "from urllib.parse import quote\n",
    "from selenium import webdriver\n",
    "from selenium.webdriver.common.by import By\n",
    "import time\n",
    "from bs4 import BeautifulSoup\n",
    "\n",
    "# 예\n",
    "market = ['로컬푸드 직매장']\n",
    "addr = '울릉군 울릉읍 독도리'\n",
    "\n",
    "# 고객이 입력한 상품을 파는 매장을 리스트로 가져오기\n",
    "market_list = market"
   ]
  },
  {
   "cell_type": "code",
   "execution_count": 42,
   "metadata": {},
   "outputs": [
    {
     "data": {
      "text/plain": [
       "'울릉군 독도리'"
      ]
     },
     "execution_count": 42,
     "metadata": {},
     "output_type": "execute_result"
    }
   ],
   "source": [
    "# 고객이 입력한 주소 ['시', '구'] 또는 ['군', '면', '리'] 가져오기\n",
    "addr_list = addr.split(' ')\n",
    "addr_list1 = []\n",
    "addr_list2 = []\n",
    "for i in addr_list:\n",
    "    if i[-1] == '시':\n",
    "        addr_list1.append(i)\n",
    "    elif i[-1] == '구':\n",
    "        addr_list1.append(i)\n",
    "    elif i[-1] == '군':\n",
    "        addr_list2.append(i)\n",
    "    elif i[-1] == '면':\n",
    "        addr_list2.append(i)\n",
    "    elif i[-1] == '리':\n",
    "        addr_list2.append(i)\n",
    "\n",
    "addr1 = ' '.join(addr_list1)\n",
    "addr2 = ' '.join(addr_list2)\n",
    "\n",
    "if addr1 != '':\n",
    "    addr = addr1\n",
    "else:\n",
    "    addr = addr2\n",
    "addr"
   ]
  },
  {
   "cell_type": "code",
   "execution_count": 43,
   "metadata": {},
   "outputs": [],
   "source": [
    "# 고객이 입력한 주소 좌표 구하기\n",
    "try:\n",
    "    with open('keys/카카오api.txt') as file:\n",
    "        kakao_key = file.read()\n",
    "\n",
    "    base_url = 'https://dapi.kakao.com/v2/local/search/address.json'\n",
    "    header = {'Authorization': f'KakaoAK {kakao_key}'}\n",
    "    url = f'{base_url}?query={quote(addr)}'\n",
    "    result = requests.get(url, headers=header).json()\n",
    "    lat = float(result['documents'][0]['y'])\n",
    "    lng = float(result['documents'][0]['x'])\n",
    "except:\n",
    "    print('주소 형식이 올바르지 않습니다.')"
   ]
  },
  {
   "cell_type": "code",
   "execution_count": 44,
   "metadata": {},
   "outputs": [
    {
     "data": {
      "text/plain": [
       "(37.241273540919, 131.864938493671)"
      ]
     },
     "execution_count": 44,
     "metadata": {},
     "output_type": "execute_result"
    }
   ],
   "source": [
    "lat, lng"
   ]
  },
  {
   "cell_type": "code",
   "execution_count": 45,
   "metadata": {},
   "outputs": [],
   "source": [
    "# 네이버 플레이스 셀레니움으로 들어가기\n",
    "n_place_url = f'https://m.place.naver.com/place/list?x={lng}&y={lat}&query={market[0]} {addr}'\n",
    "driver = webdriver.Chrome()\n",
    "driver.get(n_place_url)"
   ]
  },
  {
   "cell_type": "code",
   "execution_count": 46,
   "metadata": {},
   "outputs": [],
   "source": [
    "# '목록보기' 클릭\n",
    "filter = driver.find_element(By.XPATH, '//*[@id=\"_place_portal_root\"]/div/a') \n",
    "filter.click()\n",
    "time.sleep(3)"
   ]
  },
  {
   "cell_type": "code",
   "execution_count": 47,
   "metadata": {},
   "outputs": [],
   "source": [
    "# '거리순' 클릭\n",
    "short_way = driver.find_element(By.XPATH, '//*[@id=\"_list_scroll_container\"]/div/div/div[1]/div/div/div/span[2]/a') \n",
    "short_way.click()\n",
    "time.sleep(3)"
   ]
  },
  {
   "cell_type": "code",
   "execution_count": 48,
   "metadata": {},
   "outputs": [
    {
     "name": "stdout",
     "output_type": "stream",
     "text": [
      "근처에 매장이 없습니다\n"
     ]
    }
   ],
   "source": [
    "# '상세 주소 화살표' 클릭\n",
    "try:\n",
    "    juso_way = driver.find_elements(By.CLASS_NAME, 'uFxr1')\n",
    "    juso_way[0].click()\n",
    "    time.sleep(1)\n",
    "except:\n",
    "    print('근처에 매장이 없습니다')"
   ]
  },
  {
   "cell_type": "code",
   "execution_count": 39,
   "metadata": {},
   "outputs": [
    {
     "data": {
      "text/plain": [
       "<li class=\"VLTHu\" data-laim-exp-id=\"undefined\"><div class=\"qbGlu\"><div class=\"TTfa9\"><a class=\"place_thumb\" href=\"https://m.place.naver.com/place/1468997412/photo?entry=ple\" role=\"button\"><div class=\"lazyload-wrapper\"><img alt=\"풍기인삼농협 로컬푸드직매장\" data-grid-lazy=\"false\" height=\"88\" src=\"https://search.pstatic.net/common/?autoRotate=true&amp;quality=95&amp;type=f160_160&amp;src=https%3A%2F%2Fldb-phinf.pstatic.net%2F20221230_19%2F1672387022579unS2R_JPEG%2F20221230_132142.jpg\" width=\"88\"/></div></a></div><div class=\"ouxiq icT4K\"><a class=\"P7gyV\" href=\"https://m.place.naver.com/place/1468997412?entry=ple\" role=\"button\"><div class=\"ApCpt\"><div class=\"C6RjW\"><span class=\"place_bluelink YwYLL\">풍기인삼농협 로컬푸드직매장</span><span class=\"YzBgS\">가공식품</span></div></div></a><a class=\"P7gyV\" href=\"https://m.place.naver.com/place/1468997412?entry=ple\" role=\"button\"></a><div class=\"d7iiF\"><div class=\"KgfA6\"><span class=\"lWwyx NVngW\"><span class=\"place_blind\">현재 위치에서</span>1.5km</span><span class=\"lWwyx\"><a aria-expanded=\"true\" aria-haspopup=\"true\" class=\"uFxr1\" href=\"#\" role=\"button\"><span class=\"Pb4bU\">서울 종로구 교북동</span><span class=\"_44_8\"><span class=\"place_blind\">상세주소 닫기</span><svg aria-hidden=\"true\" class=\"Y2sSu\" viewbox=\"0 0 13 8\" xmlns=\"http://www.w3.org/2000/svg\"><path d=\"M6.5 7.7L.1 1.4.8.7l5.6 5.6L12 .7l.7.7-6.2 6.3z\"></path></svg></span></a></span><div><div class=\"AbTyi\"><div class=\"zZfO1\"><span class=\"MN3sj\">도로명</span>서울특별시 종로구 송월길 99 경희궁자이 2단지<span class=\"avoc6\"><a class=\"_vIMk place_bluelink\" href=\"#\" role=\"button\" title=\"복사\">복사</a></span></div><div class=\"zZfO1\"><span class=\"MN3sj\">지번</span>서울특별시 종로구 교북동 127 경희궁자이 2단지<span class=\"avoc6\"><a class=\"_vIMk place_bluelink\" href=\"#\" role=\"button\" title=\"복사\">복사</a></span></div><div class=\"zZfO1\"><span aria-hidden=\"true\" class=\"MN3sj hveic\">우</span><span class=\"place_blind\">우편번호</span>03165<span class=\"avoc6\"><a class=\"_vIMk place_bluelink\" href=\"#\" role=\"button\" title=\"복사\">복사</a></span></div><a class=\"yVGVT\" href=\"#\" role=\"button\"><span class=\"place_blind\">팝업 닫기</span><svg aria-hidden=\"true\" class=\"Y2sSu\" viewbox=\"0 0 22 22\" xmlns=\"http://www.w3.org/2000/svg\"><path d=\"M11 10.21L20.33.88l.79.8L11.77 11l9.34 9.33-.8.79L11 11.77l-9.33 9.34-.79-.8L10.22 11 .88 1.67l.8-.78L11 10.22z\"></path></svg></a></div></div></div></div></div></div><div class=\"B5sp_\" data-nclicks-area-code=\"vsl\"><div class=\"kXw6i\"><div><div class=\"ngGKH\"><div class=\"flicking-viewport\" style=\"user-select: none; -webkit-user-drag: none; touch-action: pan-y;\"><div class=\"flicking-camera\" style=\"transform: translate(0px);\"><span class=\"JsCty\"><a class=\"_T0lO\" href=\"https://m.search.naver.com/search.naver?where=m&amp;query=%EB%B9%A0%EB%A5%B8%EA%B8%B8%EC%B0%BE%EA%B8%B0&amp;nso_path=placeType%5Eplace%3Bname%5E%3Baddress%5E%3Blatitude%5E%3Blongitude%5E%3Bcode%5E%7Ctype%5Eplace%3Bname%5E%ED%92%8D%EA%B8%B0%EC%9D%B8%EC%82%BC%EB%86%8D%ED%98%91%20%EB%A1%9C%EC%BB%AC%ED%91%B8%EB%93%9C%EC%A7%81%EB%A7%A4%EC%9E%A5%3Baddress%5E%3Bcode%5E1468997412%3Blongitude%5E126.9624367%3Blatitude%5E37.5704999%7Cobjtype%5Epath%3Bby%5Epubtrans\" role=\"button\" target=\"_self\"><svg aria-hidden=\"true\" class=\"yR6ue\" viewbox=\"0 0 16 16\" xmlns=\"http://www.w3.org/2000/svg\"><path d=\"M8.9 1.1c.2-.2.6-.2.8 0l4.2 4c.2.2.2.6 0 .8-.2.2-.6.2-.8 0l-3.1-3v4.8c0 .9-.7 1.6-1.6 1.6H3.5c-.2 0-.4.2-.4.4v4.8c0 .3-.3.6-.6.6s-.6-.3-.6-.6V9.7c0-.9.7-1.6 1.6-1.6h4.8c.2 0 .4-.2.4-.4V2.9L5.6 6c-.2.2-.6.2-.8 0s-.2-.6 0-.8l4.1-4.1z\"></path></svg>길찾기</a></span><span class=\"JsCty\"><a class=\"_T0lO naver-splugin spi_sns_share\" data-friend-display=\"on\" data-kakaostory-display=\"off\" data-kakaotalk-button-text=\"네이버 플레이스로 보기\" data-kakaotalk-description=\"서울특별시 종로구 송월길 99 경희궁자이 2단지\" data-kakaotalk-image-url=\"https://ldb-phinf.pstatic.net/20221230_19/1672387022579unS2R_JPEG/20221230_132142.jpg\" data-kakaotalk-template-type=\"custom_web\" data-kakaotalk-title=\"풍기인삼농협 로컬푸드직매장\" data-line-description=\"서울특별시 종로구 송월길 99 경희궁자이 2단지\" data-line-template-type=\"custom_web\" data-line-title=\"풍기인삼농협 로컬푸드직매장\" data-style=\"one-button\" data-title=\"풍기인삼농협 로컬푸드직매장\n",
       "서울특별시 종로구 송월길 99 경희궁자이 2단지\" data-url=\"https://m.place.naver.com/share?id=1468997412&amp;appMode=detail\" data-url-extra=\"풍기인삼농협 로컬푸드직매장\n",
       "서울특별시 종로구 송월길 99 경희궁자이 2단지\" href=\"#\" id=\"_vsl.share\" splugin-id=\"956828998\" target=\"_self\"><svg aria-hidden=\"true\" class=\"yR6ue\" viewbox=\"0 0 16 16\" xmlns=\"http://www.w3.org/2000/svg\"><path d=\"M15.6 4.6l-4-3.4c-.5-.5-1.3-.1-1.3.6v1.7c-3.9 0-5.9 3-6.3 4.8-.1.3.1.6.4.8.2.1.6.1.8-.1.7-.7 1.8-1.1 2.9-1.4.8-.2 1.6-.2 2.2-.2v1.7c0 .7.8 1.1 1.3.6l4-3.4c.5-.5.5-1.3 0-1.7zm-4.1 3.7V7c0-.4-.3-.7-.6-.7-.7-.1-1.8-.1-3 .2-.7.1-1.4.2-2 .5.8-1.2 2.4-2.5 4.9-2.3.3.1.7-.2.7-.7V2.7l3.2 2.8-3.2 2.8zm3.1 2.6v3.5c0 .5-.4.9-.9.9H1.3a.9.9 0 01-.9-.9V2.7c0-.5.4-.9.9-.9h3.9c.3 0 .6.3.6.6s-.3.6-.6.6H1.8c-.1 0-.2.1-.2.2v10.7c0 .1.1.2.2.2h11.4c.1 0 .2-.1.2-.2v-3c0-.3.3-.6.6-.6s.6.3.6.6z\"></path></svg>공유</a></span></div><a class=\"PznE8 hcZFX\" href=\"#\" role=\"button\"><span class=\"nK_aH\"><svg aria-hidden=\"true\" class=\"Vg1dR\" viewbox=\"0 0 8 12\" xmlns=\"http://www.w3.org/2000/svg\"><path d=\"M2 11.4l-1-1.1 4.4-4.5L1 1.4 2 .3l5.6 5.5L2 11.4z\"></path></svg><span class=\"place_blind\">이전</span></span></a><a class=\"ZCqf_ hcZFX\" href=\"#\" role=\"button\"><span class=\"nK_aH\"><svg aria-hidden=\"true\" class=\"Vg1dR\" viewbox=\"0 0 8 12\" xmlns=\"http://www.w3.org/2000/svg\"><path d=\"M2 11.4l-1-1.1 4.4-4.5L1 1.4 2 .3l5.6 5.5L2 11.4z\"></path></svg><span class=\"place_blind\">다음</span></span></a></div></div></div></div></div></li>"
      ]
     },
     "execution_count": 39,
     "metadata": {},
     "output_type": "execute_result"
    }
   ],
   "source": [
    "# 마켓 정보 불러오기\n",
    "soup = BeautifulSoup(driver.page_source)\n",
    "market_list = soup.find('ul', class_='eDFz9')\n",
    "mart = market_list.find('li', recursive=False)\n",
    "mart"
   ]
  },
  {
   "cell_type": "code",
   "execution_count": 40,
   "metadata": {},
   "outputs": [
    {
     "data": {
      "text/plain": [
       "[{'거리': '1.5km', '매장명': '풍기인삼농협 로컬푸드직매장', '주소': '서울특별시 종로구 송월길 99 경희궁자이 2단지'}]"
      ]
     },
     "execution_count": 40,
     "metadata": {},
     "output_type": "execute_result"
    }
   ],
   "source": [
    "results = []\n",
    "# 현재 위치에서 마켓 거리\n",
    "m_distance = mart.select_one('span.lWwyx.NVngW').get_text().split('서')[1]\n",
    "# 마켓 이름\n",
    "m_title = mart.select_one('span.place_bluelink.YwYLL').get_text()\n",
    "# 마켓 주소\n",
    "# 지번만 있을 경우\n",
    "if mart.select_one('div.zZfO1').get_text()[:2] == '지번':\n",
    "    m_addr = mart.select_one('div.zZfO1').get_text()[2:-2]\n",
    "# 도로명 주소일 경우\n",
    "else:\n",
    "    m_addr = mart.select_one('div.zZfO1').get_text()[3:-2]\n",
    "# 딕셔너리 형태로 저장\n",
    "market_data = {\n",
    "    '거리': m_distance,\n",
    "    '매장명': m_title,\n",
    "    '주소': m_addr\n",
    "}\n",
    "# 딕셔너리 형태로 저장한 것을 리스트에 저장 (3가지 마켓을 넣어야 하므로)\n",
    "results.append(market_data)\n",
    "results"
   ]
  },
  {
   "cell_type": "code",
   "execution_count": null,
   "metadata": {},
   "outputs": [],
   "source": []
  }
 ],
 "metadata": {
  "kernelspec": {
   "display_name": "base",
   "language": "python",
   "name": "python3"
  },
  "language_info": {
   "codemirror_mode": {
    "name": "ipython",
    "version": 3
   },
   "file_extension": ".py",
   "mimetype": "text/x-python",
   "name": "python",
   "nbconvert_exporter": "python",
   "pygments_lexer": "ipython3",
   "version": "3.11.5"
  }
 },
 "nbformat": 4,
 "nbformat_minor": 2
}
