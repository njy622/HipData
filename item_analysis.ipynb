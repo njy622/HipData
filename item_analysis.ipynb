{
 "cells": [
  {
   "cell_type": "code",
   "execution_count": 19,
   "metadata": {},
   "outputs": [],
   "source": [
    "import requests\n",
    "import util.item_analysis as ui\n",
    "from urllib.parse import quote\n",
    "from selenium import webdriver\n",
    "from selenium.webdriver.common.by import By\n",
    "import time\n",
    "from bs4 import BeautifulSoup\n",
    "\n",
    "market = ['올가홀푸드']\n",
    "addr = '서울시 종로구'\n",
    "\n",
    "# 고객이 입력한 상품을 파는 매장을 리스트로 가져오기\n",
    "market_list = market"
   ]
  },
  {
   "cell_type": "code",
   "execution_count": 20,
   "metadata": {},
   "outputs": [
    {
     "data": {
      "text/plain": [
       "'서울시 종로구'"
      ]
     },
     "execution_count": 20,
     "metadata": {},
     "output_type": "execute_result"
    }
   ],
   "source": [
    "# 고객이 입력한 주소 '시', '구'만 가져오기 (이외의 정보는 지도 검색 시 필요없음으로 확인)\n",
    "addr_list = addr.split(' ')\n",
    "addr_list2 = []\n",
    "for i in addr_list:\n",
    "    if i[-1] == '시':\n",
    "        addr_list2.append(i)\n",
    "    elif i[-1] == '구':\n",
    "        addr_list2.append(i)\n",
    "addr = ' '.join(addr_list2)\n",
    "addr\n"
   ]
  },
  {
   "cell_type": "code",
   "execution_count": 21,
   "metadata": {},
   "outputs": [],
   "source": [
    "# 고객이 입력한 주소 좌표 구하기\n",
    "with open('keys/카카오api.txt') as file:\n",
    "    kakao_key = file.read()\n",
    "\n",
    "base_url = 'https://dapi.kakao.com/v2/local/search/address.json'\n",
    "header = {'Authorization': f'KakaoAK {kakao_key}'}\n",
    "url = f'{base_url}?query={quote(addr)}'\n",
    "result = requests.get(url, headers=header).json()\n",
    "lat = float(result['documents'][0]['y'])\n",
    "lng = float(result['documents'][0]['x'])"
   ]
  },
  {
   "cell_type": "code",
   "execution_count": 22,
   "metadata": {},
   "outputs": [
    {
     "data": {
      "text/plain": [
       "(37.5735042429813, 126.978989954189)"
      ]
     },
     "execution_count": 22,
     "metadata": {},
     "output_type": "execute_result"
    }
   ],
   "source": [
    "lat, lng"
   ]
  },
  {
   "cell_type": "code",
   "execution_count": 23,
   "metadata": {},
   "outputs": [],
   "source": [
    "# 네이버 플레이스 셀레니움으로 들어가기\n",
    "n_place_url = f'https://m.place.naver.com/place/list?x={lng}&y={lat}&query={market[0]} {addr}'\n",
    "driver = webdriver.Chrome()\n",
    "driver.get(n_place_url)"
   ]
  },
  {
   "cell_type": "code",
   "execution_count": 24,
   "metadata": {},
   "outputs": [],
   "source": [
    "# '목록보기' 클릭\n",
    "filter = driver.find_element(By.XPATH, '//*[@id=\"_place_portal_root\"]/div/a') \n",
    "filter.click()\n",
    "time.sleep(3)"
   ]
  },
  {
   "cell_type": "code",
   "execution_count": 25,
   "metadata": {},
   "outputs": [],
   "source": [
    "# '거리순' 클릭\n",
    "short_way = driver.find_element(By.XPATH, '//*[@id=\"_list_scroll_container\"]/div/div/div[1]/div/div/div/span[2]/a') \n",
    "short_way.click()\n",
    "time.sleep(3)"
   ]
  },
  {
   "cell_type": "code",
   "execution_count": 88,
   "metadata": {},
   "outputs": [],
   "source": [
    "# '상세 주소 화살표' 클릭\n",
    "juso_way = driver.find_elements(By.CLASS_NAME, 'uFxr1')\n",
    "juso_way[0].click()\n",
    "time.sleep(1)\n"
   ]
  },
  {
   "cell_type": "code",
   "execution_count": 26,
   "metadata": {},
   "outputs": [
    {
     "data": {
      "text/plain": [
       "<li class=\"VLTHu\" data-laim-exp-id=\"undefined\"><div class=\"qbGlu\"><div class=\"ouxiq\"><a class=\"P7gyV\" href=\"https://m.place.naver.com/place/31663641?entry=ple\" role=\"button\"><div class=\"ApCpt\"><div class=\"C6RjW\"><span class=\"place_bluelink YwYLL\">올가 롯데백화점본점</span><span class=\"YzBgS\">유기농산물마트</span></div></div></a><a class=\"P7gyV\" href=\"https://m.place.naver.com/place/31663641?entry=ple\" role=\"button\"></a><div class=\"d7iiF\"><div class=\"KgfA6\"><span class=\"lWwyx NVngW\"><span class=\"place_blind\">현재 위치에서</span>1.0km</span><span class=\"lWwyx\"><a aria-expanded=\"false\" aria-haspopup=\"true\" class=\"uFxr1\" href=\"#\" role=\"button\"><span class=\"Pb4bU\">서울 중구 소공동</span><span class=\"_44_8\"><span class=\"place_blind\">상세주소 열기</span><svg aria-hidden=\"true\" class=\"Y2sSu\" viewbox=\"0 0 13 8\" xmlns=\"http://www.w3.org/2000/svg\"><path d=\"M6.5 7.7L.1 1.4.8.7l5.6 5.6L12 .7l.7.7-6.2 6.3z\"></path></svg></span></a></span></div></div></div></div><div class=\"B5sp_\" data-nclicks-area-code=\"vsl\"><div class=\"kXw6i\"><div><div class=\"ngGKH\"><div class=\"flicking-viewport\" style=\"user-select: none; -webkit-user-drag: none; touch-action: pan-y;\"><div class=\"flicking-camera\" style=\"transform: translate(0px);\"><span class=\"JsCty\"><a class=\"_T0lO\" data-for-biz-catcher=\"mainNumber=02-726-4262&amp;callSource=PLACE_DETAIL&amp;keyword=%EC%98%AC%EA%B0%80%ED%99%80%ED%91%B8%EB%93%9C%20%EC%84%9C%EC%9A%B8%EC%8B%9C%20%EC%A2%85%EB%A1%9C%EA%B5%AC&amp;description=31663641\" href=\"tel:02-726-4262\" role=\"button\" target=\"_self\"><svg aria-hidden=\"true\" class=\"yR6ue\" viewbox=\"0 0 16 16\" xmlns=\"http://www.w3.org/2000/svg\"><path d=\"M14.7 11.2l-3.4-3.4c-.1-.2-.4-.3-.6-.3s-.4.1-.6.3L8.8 9.1C8.1 8.6 7.4 8 6.9 7.3l1.3-1.4c.1-.2.2-.4.2-.6s0-.4-.2-.6L4.7 1.2c-.2-.1-.4-.2-.6-.2-.2 0-.4.1-.6.2L1.2 3.6c-.2.2-.2.4-.1.7.3 1.8 1 3.4 2 4.9.9 1.5 2.2 2.8 3.6 3.7 1.5 1 3.1 1.6 4.9 2h.2c.2 0 .4-.1.6-.2l2.3-2.3c.1-.2.2-.4.2-.6s-.1-.4-.2-.6zm-2.9 2.6c-1.6-.3-3.1-.9-4.4-1.8C6 11.1 4.9 10 4 8.6c-.9-1.3-1.5-2.8-1.9-4.4l2-2 3.2 3.1-1.2 1.2c-.3.4-.4.9-.1 1.3.6.9 1.4 1.7 2.3 2.2.4.3.9.2 1.2-.1l1.2-1.2 3.1 3.1-2 2z\"></path></svg>전화</a></span><span class=\"JsCty\"><a class=\"_T0lO\" href=\"https://m.search.naver.com/search.naver?where=m&amp;query=%EB%B9%A0%EB%A5%B8%EA%B8%B8%EC%B0%BE%EA%B8%B0&amp;nso_path=placeType%5Eplace%3Bname%5E%3Baddress%5E%3Blatitude%5E%3Blongitude%5E%3Bcode%5E%7Ctype%5Eplace%3Bname%5E%EC%98%AC%EA%B0%80%20%EB%A1%AF%EB%8D%B0%EB%B0%B1%ED%99%94%EC%A0%90%EB%B3%B8%EC%A0%90%3Baddress%5E%3Bcode%5E31663641%3Blongitude%5E126.9818371%3Blatitude%5E37.5645563%7Cobjtype%5Epath%3Bby%5Epubtrans\" role=\"button\" target=\"_self\"><svg aria-hidden=\"true\" class=\"yR6ue\" viewbox=\"0 0 16 16\" xmlns=\"http://www.w3.org/2000/svg\"><path d=\"M8.9 1.1c.2-.2.6-.2.8 0l4.2 4c.2.2.2.6 0 .8-.2.2-.6.2-.8 0l-3.1-3v4.8c0 .9-.7 1.6-1.6 1.6H3.5c-.2 0-.4.2-.4.4v4.8c0 .3-.3.6-.6.6s-.6-.3-.6-.6V9.7c0-.9.7-1.6 1.6-1.6h4.8c.2 0 .4-.2.4-.4V2.9L5.6 6c-.2.2-.6.2-.8 0s-.2-.6 0-.8l4.1-4.1z\"></path></svg>길찾기</a></span><span class=\"JsCty\"><a class=\"_T0lO naver-splugin spi_sns_share\" data-friend-display=\"on\" data-kakaostory-display=\"off\" data-kakaotalk-button-text=\"네이버 플레이스로 보기\" data-kakaotalk-description=\"서울특별시 중구 을지로 30 롯데백화점본점 B1\" data-kakaotalk-template-type=\"custom_web\" data-kakaotalk-title=\"올가 롯데백화점본점\" data-line-description=\"서울특별시 중구 을지로 30 롯데백화점본점 B1\" data-line-template-type=\"custom_web\" data-line-title=\"올가 롯데백화점본점\" data-style=\"one-button\" data-title=\"올가 롯데백화점본점\n",
       "서울특별시 중구 을지로 30 롯데백화점본점 B1\" data-url=\"https://m.place.naver.com/share?id=31663641&amp;appMode=detail\" data-url-extra=\"올가 롯데백화점본점\n",
       "서울특별시 중구 을지로 30 롯데백화점본점 B1\" href=\"#\" id=\"_vsl.share\" splugin-id=\"9331016705\" target=\"_self\"><svg aria-hidden=\"true\" class=\"yR6ue\" viewbox=\"0 0 16 16\" xmlns=\"http://www.w3.org/2000/svg\"><path d=\"M15.6 4.6l-4-3.4c-.5-.5-1.3-.1-1.3.6v1.7c-3.9 0-5.9 3-6.3 4.8-.1.3.1.6.4.8.2.1.6.1.8-.1.7-.7 1.8-1.1 2.9-1.4.8-.2 1.6-.2 2.2-.2v1.7c0 .7.8 1.1 1.3.6l4-3.4c.5-.5.5-1.3 0-1.7zm-4.1 3.7V7c0-.4-.3-.7-.6-.7-.7-.1-1.8-.1-3 .2-.7.1-1.4.2-2 .5.8-1.2 2.4-2.5 4.9-2.3.3.1.7-.2.7-.7V2.7l3.2 2.8-3.2 2.8zm3.1 2.6v3.5c0 .5-.4.9-.9.9H1.3a.9.9 0 01-.9-.9V2.7c0-.5.4-.9.9-.9h3.9c.3 0 .6.3.6.6s-.3.6-.6.6H1.8c-.1 0-.2.1-.2.2v10.7c0 .1.1.2.2.2h11.4c.1 0 .2-.1.2-.2v-3c0-.3.3-.6.6-.6s.6.3.6.6z\"></path></svg>공유</a></span></div><a class=\"PznE8 hcZFX\" href=\"#\" role=\"button\"><span class=\"nK_aH\"><svg aria-hidden=\"true\" class=\"Vg1dR\" viewbox=\"0 0 8 12\" xmlns=\"http://www.w3.org/2000/svg\"><path d=\"M2 11.4l-1-1.1 4.4-4.5L1 1.4 2 .3l5.6 5.5L2 11.4z\"></path></svg><span class=\"place_blind\">이전</span></span></a><a class=\"ZCqf_ hcZFX\" href=\"#\" role=\"button\"><span class=\"nK_aH\"><svg aria-hidden=\"true\" class=\"Vg1dR\" viewbox=\"0 0 8 12\" xmlns=\"http://www.w3.org/2000/svg\"><path d=\"M2 11.4l-1-1.1 4.4-4.5L1 1.4 2 .3l5.6 5.5L2 11.4z\"></path></svg><span class=\"place_blind\">다음</span></span></a></div></div></div></div></div></li>"
      ]
     },
     "execution_count": 26,
     "metadata": {},
     "output_type": "execute_result"
    }
   ],
   "source": [
    "# 마켓 정보 불러오기\n",
    "soup = BeautifulSoup(driver.page_source)\n",
    "market_list = soup.find('ul', class_='eDFz9')\n",
    "mart = market_list.find('li', recursive=False)\n",
    "mart"
   ]
  },
  {
   "cell_type": "code",
   "execution_count": 27,
   "metadata": {},
   "outputs": [
    {
     "ename": "AttributeError",
     "evalue": "'NoneType' object has no attribute 'get_text'",
     "output_type": "error",
     "traceback": [
      "\u001b[1;31m---------------------------------------------------------------------------\u001b[0m",
      "\u001b[1;31mAttributeError\u001b[0m                            Traceback (most recent call last)",
      "\u001b[1;32md:\\workspace\\99.project\\근처 매장 정보.ipynb 셀 10\u001b[0m line \u001b[0;36m7\n\u001b[0;32m      <a href='vscode-notebook-cell:/d%3A/workspace/99.project/%EA%B7%BC%EC%B2%98%20%EB%A7%A4%EC%9E%A5%20%EC%A0%95%EB%B3%B4.ipynb#X12sZmlsZQ%3D%3D?line=4'>5</a>\u001b[0m m_title \u001b[39m=\u001b[39m mart\u001b[39m.\u001b[39mselect_one(\u001b[39m'\u001b[39m\u001b[39mspan.place_bluelink.YwYLL\u001b[39m\u001b[39m'\u001b[39m)\u001b[39m.\u001b[39mget_text()\n\u001b[0;32m      <a href='vscode-notebook-cell:/d%3A/workspace/99.project/%EA%B7%BC%EC%B2%98%20%EB%A7%A4%EC%9E%A5%20%EC%A0%95%EB%B3%B4.ipynb#X12sZmlsZQ%3D%3D?line=5'>6</a>\u001b[0m \u001b[39m# 마켓 도로명 주소\u001b[39;00m\n\u001b[1;32m----> <a href='vscode-notebook-cell:/d%3A/workspace/99.project/%EA%B7%BC%EC%B2%98%20%EB%A7%A4%EC%9E%A5%20%EC%A0%95%EB%B3%B4.ipynb#X12sZmlsZQ%3D%3D?line=6'>7</a>\u001b[0m m_addr \u001b[39m=\u001b[39m mart\u001b[39m.\u001b[39mselect_one(\u001b[39m'\u001b[39m\u001b[39mdiv.zZfO1\u001b[39m\u001b[39m'\u001b[39m)\u001b[39m.\u001b[39mget_text()[\u001b[39m3\u001b[39m:\u001b[39m-\u001b[39m\u001b[39m2\u001b[39m]\n\u001b[0;32m      <a href='vscode-notebook-cell:/d%3A/workspace/99.project/%EA%B7%BC%EC%B2%98%20%EB%A7%A4%EC%9E%A5%20%EC%A0%95%EB%B3%B4.ipynb#X12sZmlsZQ%3D%3D?line=7'>8</a>\u001b[0m \u001b[39m# 딕셔너리 형태로 저장\u001b[39;00m\n\u001b[0;32m      <a href='vscode-notebook-cell:/d%3A/workspace/99.project/%EA%B7%BC%EC%B2%98%20%EB%A7%A4%EC%9E%A5%20%EC%A0%95%EB%B3%B4.ipynb#X12sZmlsZQ%3D%3D?line=8'>9</a>\u001b[0m market_data \u001b[39m=\u001b[39m {\n\u001b[0;32m     <a href='vscode-notebook-cell:/d%3A/workspace/99.project/%EA%B7%BC%EC%B2%98%20%EB%A7%A4%EC%9E%A5%20%EC%A0%95%EB%B3%B4.ipynb#X12sZmlsZQ%3D%3D?line=9'>10</a>\u001b[0m     \u001b[39m'\u001b[39m\u001b[39mm_distance\u001b[39m\u001b[39m'\u001b[39m: m_distance,\n\u001b[0;32m     <a href='vscode-notebook-cell:/d%3A/workspace/99.project/%EA%B7%BC%EC%B2%98%20%EB%A7%A4%EC%9E%A5%20%EC%A0%95%EB%B3%B4.ipynb#X12sZmlsZQ%3D%3D?line=10'>11</a>\u001b[0m     \u001b[39m'\u001b[39m\u001b[39mm_title\u001b[39m\u001b[39m'\u001b[39m: m_title,\n\u001b[0;32m     <a href='vscode-notebook-cell:/d%3A/workspace/99.project/%EA%B7%BC%EC%B2%98%20%EB%A7%A4%EC%9E%A5%20%EC%A0%95%EB%B3%B4.ipynb#X12sZmlsZQ%3D%3D?line=11'>12</a>\u001b[0m     \u001b[39m'\u001b[39m\u001b[39mm_addr\u001b[39m\u001b[39m'\u001b[39m: m_addr\n\u001b[0;32m     <a href='vscode-notebook-cell:/d%3A/workspace/99.project/%EA%B7%BC%EC%B2%98%20%EB%A7%A4%EC%9E%A5%20%EC%A0%95%EB%B3%B4.ipynb#X12sZmlsZQ%3D%3D?line=12'>13</a>\u001b[0m }\n",
      "\u001b[1;31mAttributeError\u001b[0m: 'NoneType' object has no attribute 'get_text'"
     ]
    }
   ],
   "source": [
    "results = []\n",
    "# 현재 위치에서 마켓 거리\n",
    "m_distance = mart.select_one('span.lWwyx.NVngW').get_text().split('서')[1]\n",
    "# 마켓 이름\n",
    "m_title = mart.select_one('span.place_bluelink.YwYLL').get_text()\n",
    "# 마켓 도로명 주소\n",
    "m_addr = mart.select_one('div.zZfO1').get_text()[3:-2]\n",
    "# 딕셔너리 형태로 저장\n",
    "market_data = {\n",
    "    'm_distance': m_distance,\n",
    "    'm_title': m_title,\n",
    "    'm_addr': m_addr\n",
    "}\n",
    "# 딕셔너리 형태로 저장한 것을 리스트에 저장 (3가지 마켓을 넣어야 하므로)\n",
    "results.append(market_data)\n",
    "results"
   ]
  },
  {
   "cell_type": "code",
   "execution_count": null,
   "metadata": {},
   "outputs": [],
   "source": []
  }
 ],
 "metadata": {
  "kernelspec": {
   "display_name": "base",
   "language": "python",
   "name": "python3"
  },
  "language_info": {
   "codemirror_mode": {
    "name": "ipython",
    "version": 3
   },
   "file_extension": ".py",
   "mimetype": "text/x-python",
   "name": "python",
   "nbconvert_exporter": "python",
   "pygments_lexer": "ipython3",
   "version": "3.11.5"
  }
 },
 "nbformat": 4,
 "nbformat_minor": 2
}
