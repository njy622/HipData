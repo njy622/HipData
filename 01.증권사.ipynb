{
 "cells": [
  {
   "cell_type": "markdown",
   "metadata": {},
   "source": [
    "# 증권"
   ]
  },
  {
   "cell_type": "code",
   "execution_count": 1,
   "metadata": {},
   "outputs": [],
   "source": [
    "import time\n",
    "import requests\n",
    "import pandas as pd\n",
    "from bs4 import BeautifulSoup\n",
    "from selenium import webdriver\n",
    "from selenium.webdriver.common.by import By\n",
    "from selenium.webdriver.common.keys import Keys"
   ]
  },
  {
   "cell_type": "markdown",
   "metadata": {},
   "source": [
    "- 1. 데이터 가져오기"
   ]
  },
  {
   "cell_type": "code",
   "execution_count": null,
   "metadata": {},
   "outputs": [],
   "source": [
    "# 한글 문장 임베딩에 활용하기 위해 만들어진 한글 사전학습 모델\n",
    "model = SentenceTransformer('jhgan/ko-sroberta-multitask')\n",
    "# 이거 언제 올라가나요 \n",
    "# 아진짜 짜쯩나네 언제 되는거야 "
   ]
  },
  {
   "cell_type": "code",
   "execution_count": 2,
   "metadata": {},
   "outputs": [],
   "source": [
    "# 여기는 진짜 짜쯩나게 이러면 누가쓰냐 \n",
    "#ㅇㅁ라 ㅓ니알 ㅓ이카후 ㅋㅌ,츠ㅜㅍ "
   ]
  },
  {
   "cell_type": "code",
   "execution_count": null,
   "metadata": {},
   "outputs": [],
   "source": [
    "driver.find_element(By.CSS_SELECTOR, '#gnvVID > li:nth-child(1) > a')"
   ]
  },
  {
   "cell_type": "markdown",
   "metadata": {},
   "source": [
    "- 2. 원하는 데이터 찾기"
   ]
  },
  {
   "cell_type": "code",
   "execution_count": 20,
   "metadata": {},
   "outputs": [
    {
     "data": {
      "text/plain": [
       "[]"
      ]
     },
     "execution_count": 20,
     "metadata": {},
     "output_type": "execute_result"
    }
   ],
   "source": [
    "# 파일이름을 이렇게 쓰려고 타임데이터 가져옴\n",
    "lis = soup.select('.contentsA')\n",
    "lis"
   ]
  },
  {
   "cell_type": "code",
   "execution_count": 6,
   "metadata": {},
   "outputs": [
    {
     "data": {
      "text/plain": [
       "50"
      ]
     },
     "execution_count": 6,
     "metadata": {},
     "output_type": "execute_result"
    }
   ],
   "source": [
    "trs = soup.select('.lst50')\n",
    "len(trs)"
   ]
  },
  {
   "cell_type": "markdown",
   "metadata": {},
   "source": [
    "- 삭제 아까 했찌 "
   ]
  },
  {
   "cell_type": "code",
   "execution_count": null,
   "metadata": {},
   "outputs": [],
   "source": [
    "# 얄라리량 "
   ]
  },
  {
   "cell_type": "code",
   "execution_count": 8,
   "metadata": {},
   "outputs": [
    {
     "data": {
      "text/plain": [
       "100"
      ]
     },
     "execution_count": 8,
     "metadata": {},
     "output_type": "execute_result"
    }
   ],
   "source": [
    "trs = soup.select('.lst50') +soup.select('.lst100')\n",
    "len(trs)"
   ]
  },
  {
   "cell_type": "markdown",
   "metadata": {},
   "source": [
    "- 3. 하나를 선택해서 원하는 정보 추출"
   ]
  },
  {
   "cell_type": "code",
   "execution_count": 9,
   "metadata": {},
   "outputs": [
    {
     "data": {
      "text/plain": [
       "1"
      ]
     },
     "execution_count": 9,
     "metadata": {},
     "output_type": "execute_result"
    }
   ],
   "source": [
    "tr = trs[0]\n",
    "rank = int(tr.select_one('.rank').get_text().strip())\n",
    "rank"
   ]
  },
  {
   "cell_type": "code",
   "execution_count": null,
   "metadata": {},
   "outputs": [],
   "source": [
    "art_href = tr.select_one('ellipsis.rank02 > a')['href'][-8:-3]"
   ]
  },
  {
   "cell_type": "code",
   "execution_count": 14,
   "metadata": {},
   "outputs": [],
   "source": [
    "href = tr.select_one('.wrap > a')['href']"
   ]
  },
  {
   "cell_type": "code",
   "execution_count": 30,
   "metadata": {},
   "outputs": [
    {
     "data": {
      "text/plain": [
       "'Love Lee'"
      ]
     },
     "execution_count": 30,
     "metadata": {},
     "output_type": "execute_result"
    }
   ],
   "source": [
    "# select_one 안에 공백있으면 에러남으로 공백없애주기(클래스앞에는 항상 .)\n",
    "title = tr.select_one('.ellipsis.rank01').get_text().strip()\n",
    "title"
   ]
  },
  {
   "cell_type": "code",
   "execution_count": 31,
   "metadata": {},
   "outputs": [
    {
     "data": {
      "text/plain": [
       "'\\n<div class=\"ellipsis rank02\">\\t\\t\\t\\t\\t\\t\\t\\t\\t\\t\\n    <a href=\"javascript:melon.link.goArtistDetail(\\'712452\\');\" title=\"AKMU (악뮤) - 페이지 이동\">AKMU (악뮤)</a><span class=\"checkEllipsis\" style=\"display: none;\"><a href=\"javascript:melon.link.goArtistDetail(\\'712452\\');\" title=\"AKMU (악뮤) - 페이지 이동\">AKMU (악뮤)</a></span>\\n</div>\\n'"
      ]
     },
     "execution_count": 31,
     "metadata": {},
     "output_type": "execute_result"
    }
   ],
   "source": [
    "#.ellipsis.rank02에 뮤지션 이름이 두번 반복되어 결과값도 2번 나옴\n",
    "artist = tr.select_one('.ellipsis.rank02').get_text().strip()\n",
    "artist\n",
    "\n",
    "\"\"\"\n",
    "<div class=\"ellipsis rank02\">\t\t\t\t\t\t\t\t\t\t\n",
    "    <a href=\"javascript:melon.link.goArtistDetail('712452');\" title=\"AKMU (악뮤) - 페이지 이동\">AKMU (악뮤)</a><span class=\"checkEllipsis\" style=\"display: none;\"><a href=\"javascript:melon.link.goArtistDetail('712452');\" title=\"AKMU (악뮤) - 페이지 이동\">AKMU (악뮤)</a></span>\n",
    "</div>\n",
    "\"\"\""
   ]
  },
  {
   "cell_type": "code",
   "execution_count": 32,
   "metadata": {},
   "outputs": [
    {
     "data": {
      "text/plain": [
       "'AKMU (악뮤)'"
      ]
     },
     "execution_count": 32,
     "metadata": {},
     "output_type": "execute_result"
    }
   ],
   "source": [
    "# 자식태그를 이용하여 하나의 데이터만 가져옴\n",
    "artist = tr.select_one('.ellipsis.rank02 > a').get_text().strip()\n",
    "artist"
   ]
  },
  {
   "cell_type": "code",
   "execution_count": 33,
   "metadata": {},
   "outputs": [
    {
     "data": {
      "text/plain": [
       "'Love Lee'"
      ]
     },
     "execution_count": 33,
     "metadata": {},
     "output_type": "execute_result"
    }
   ],
   "source": [
    "album = tr.select_one('.ellipsis.rank03').get_text().strip()\n",
    "album"
   ]
  },
  {
   "cell_type": "code",
   "execution_count": 34,
   "metadata": {},
   "outputs": [
    {
     "data": {
      "text/plain": [
       "'\\n총건수\\r\\n\\t\\t\\t\\t\\t\\t\\t\\t\\t\\t\\t\\t0\\r\\n\\t\\t\\t\\t\\t\\t\\t\\t\\t\\t\\t'"
      ]
     },
     "execution_count": 34,
     "metadata": {},
     "output_type": "execute_result"
    }
   ],
   "source": [
    "# 좋아요는  BeautifulSoup으로 크롤링 불가\n",
    "like = tr.select_one('.cnt').get_text()\n",
    "like"
   ]
  },
  {
   "cell_type": "markdown",
   "metadata": {},
   "source": [
    "![Alt text](image-2.png)\n",
    "\n",
    "copy selector : #lst50 > td:nth-child(4) > div > a > img"
   ]
  },
  {
   "cell_type": "code",
   "execution_count": 35,
   "metadata": {},
   "outputs": [
    {
     "data": {
      "text/plain": [
       "'https://cdnimg.melon.co.kr/cm2/album/images/113/09/190/11309190_20230818161008_500.jpg/melon/resize/120/quality/80/optimize'"
      ]
     },
     "execution_count": 35,
     "metadata": {},
     "output_type": "execute_result"
    }
   ],
   "source": [
    "img = tr.select_one('tr > td:nth-child(4) > div > a > img')['src']\n",
    "img"
   ]
  },
  {
   "cell_type": "markdown",
   "metadata": {},
   "source": [
    "- 4. 한 페이지에 있는 정보 가져오기"
   ]
  },
  {
   "cell_type": "code",
   "execution_count": 36,
   "metadata": {},
   "outputs": [],
   "source": [
    "data = []\n",
    "for tr in trs:\n",
    "    rank = int(tr.select_one('.rank').get_text().strip())\n",
    "    title = tr.select_one('.ellipsis.rank01').get_text().strip()\n",
    "    artist = tr.select_one('.ellipsis.rank02 > a').get_text().strip()\n",
    "    album = tr.select_one('.ellipsis.rank03').get_text().strip()\n",
    "    img = tr.select_one('tr > td:nth-child(4) > div > a > img')['src']\n",
    "    data.append({'순위':rank, '제목':title, '아티스트':artist, '앨범':album, '이미지':img})"
   ]
  },
  {
   "cell_type": "markdown",
   "metadata": {},
   "source": [
    "- 5. 에러 처리\n",
    "- 6. 모든 페이지\n",
    "- 7. 데이터 프레임 만들고 저장하기"
   ]
  },
  {
   "cell_type": "code",
   "execution_count": 37,
   "metadata": {},
   "outputs": [
    {
     "data": {
      "text/html": [
       "<div>\n",
       "<style scoped>\n",
       "    .dataframe tbody tr th:only-of-type {\n",
       "        vertical-align: middle;\n",
       "    }\n",
       "\n",
       "    .dataframe tbody tr th {\n",
       "        vertical-align: top;\n",
       "    }\n",
       "\n",
       "    .dataframe thead th {\n",
       "        text-align: right;\n",
       "    }\n",
       "</style>\n",
       "<table border=\"1\" class=\"dataframe\">\n",
       "  <thead>\n",
       "    <tr style=\"text-align: right;\">\n",
       "      <th></th>\n",
       "      <th>순위</th>\n",
       "      <th>제목</th>\n",
       "      <th>아티스트</th>\n",
       "      <th>앨범</th>\n",
       "      <th>이미지</th>\n",
       "    </tr>\n",
       "  </thead>\n",
       "  <tbody>\n",
       "    <tr>\n",
       "      <th>0</th>\n",
       "      <td>1</td>\n",
       "      <td>Love Lee</td>\n",
       "      <td>AKMU (악뮤)</td>\n",
       "      <td>Love Lee</td>\n",
       "      <td>https://cdnimg.melon.co.kr/cm2/album/images/11...</td>\n",
       "    </tr>\n",
       "    <tr>\n",
       "      <th>1</th>\n",
       "      <td>2</td>\n",
       "      <td>Seven (feat. Latto) - Clean Ver.</td>\n",
       "      <td>정국</td>\n",
       "      <td>Seven (feat. Latto) - Clean Ver.</td>\n",
       "      <td>https://cdnimg.melon.co.kr/cm2/album/images/11...</td>\n",
       "    </tr>\n",
       "    <tr>\n",
       "      <th>2</th>\n",
       "      <td>3</td>\n",
       "      <td>Smoke (Prod. Dynamicduo, Padi)</td>\n",
       "      <td>다이나믹 듀오</td>\n",
       "      <td>스트릿 우먼 파이터2(SWF2) 계급미션</td>\n",
       "      <td>https://cdnimg.melon.co.kr/cm2/album/images/11...</td>\n",
       "    </tr>\n",
       "    <tr>\n",
       "      <th>3</th>\n",
       "      <td>4</td>\n",
       "      <td>후라이의 꿈</td>\n",
       "      <td>AKMU (악뮤)</td>\n",
       "      <td>Love Lee</td>\n",
       "      <td>https://cdnimg.melon.co.kr/cm2/album/images/11...</td>\n",
       "    </tr>\n",
       "    <tr>\n",
       "      <th>4</th>\n",
       "      <td>5</td>\n",
       "      <td>Super Shy</td>\n",
       "      <td>NewJeans</td>\n",
       "      <td>NewJeans 2nd EP 'Get Up'</td>\n",
       "      <td>https://cdnimg.melon.co.kr/cm2/album/images/11...</td>\n",
       "    </tr>\n",
       "  </tbody>\n",
       "</table>\n",
       "</div>"
      ],
      "text/plain": [
       "   순위                                제목       아티스트  \\\n",
       "0   1                          Love Lee  AKMU (악뮤)   \n",
       "1   2  Seven (feat. Latto) - Clean Ver.         정국   \n",
       "2   3    Smoke (Prod. Dynamicduo, Padi)    다이나믹 듀오   \n",
       "3   4                            후라이의 꿈  AKMU (악뮤)   \n",
       "4   5                         Super Shy   NewJeans   \n",
       "\n",
       "                                 앨범  \\\n",
       "0                          Love Lee   \n",
       "1  Seven (feat. Latto) - Clean Ver.   \n",
       "2            스트릿 우먼 파이터2(SWF2) 계급미션   \n",
       "3                          Love Lee   \n",
       "4          NewJeans 2nd EP 'Get Up'   \n",
       "\n",
       "                                                 이미지  \n",
       "0  https://cdnimg.melon.co.kr/cm2/album/images/11...  \n",
       "1  https://cdnimg.melon.co.kr/cm2/album/images/11...  \n",
       "2  https://cdnimg.melon.co.kr/cm2/album/images/11...  \n",
       "3  https://cdnimg.melon.co.kr/cm2/album/images/11...  \n",
       "4  https://cdnimg.melon.co.kr/cm2/album/images/11...  "
      ]
     },
     "execution_count": 37,
     "metadata": {},
     "output_type": "execute_result"
    }
   ],
   "source": [
    "df = pd.DataFrame(data)\n",
    "df.head()"
   ]
  },
  {
   "cell_type": "code",
   "execution_count": 38,
   "metadata": {},
   "outputs": [
    {
     "data": {
      "text/html": [
       "<div>\n",
       "<style scoped>\n",
       "    .dataframe tbody tr th:only-of-type {\n",
       "        vertical-align: middle;\n",
       "    }\n",
       "\n",
       "    .dataframe tbody tr th {\n",
       "        vertical-align: top;\n",
       "    }\n",
       "\n",
       "    .dataframe thead th {\n",
       "        text-align: right;\n",
       "    }\n",
       "</style>\n",
       "<table border=\"1\" class=\"dataframe\">\n",
       "  <thead>\n",
       "    <tr style=\"text-align: right;\">\n",
       "      <th></th>\n",
       "      <th>순위</th>\n",
       "      <th>제목</th>\n",
       "      <th>아티스트</th>\n",
       "      <th>앨범</th>\n",
       "      <th>이미지</th>\n",
       "    </tr>\n",
       "  </thead>\n",
       "  <tbody>\n",
       "    <tr>\n",
       "      <th>95</th>\n",
       "      <td>96</td>\n",
       "      <td>Better Things</td>\n",
       "      <td>aespa</td>\n",
       "      <td>Better Things</td>\n",
       "      <td>https://cdnimg.melon.co.kr/cm2/album/images/11...</td>\n",
       "    </tr>\n",
       "    <tr>\n",
       "      <th>96</th>\n",
       "      <td>97</td>\n",
       "      <td>That's Hilarious</td>\n",
       "      <td>Charlie Puth</td>\n",
       "      <td>CHARLIE</td>\n",
       "      <td>https://cdnimg.melon.co.kr/cm2/album/images/10...</td>\n",
       "    </tr>\n",
       "    <tr>\n",
       "      <th>97</th>\n",
       "      <td>98</td>\n",
       "      <td>In Bloom</td>\n",
       "      <td>ZEROBASEONE (제로베이스원)</td>\n",
       "      <td>YOUTH IN THE SHADE</td>\n",
       "      <td>https://cdnimg.melon.co.kr/cm2/album/images/11...</td>\n",
       "    </tr>\n",
       "    <tr>\n",
       "      <th>98</th>\n",
       "      <td>99</td>\n",
       "      <td>TOMBOY</td>\n",
       "      <td>(여자)아이들</td>\n",
       "      <td>I NEVER DIE</td>\n",
       "      <td>https://cdnimg.melon.co.kr/cm2/album/images/10...</td>\n",
       "    </tr>\n",
       "    <tr>\n",
       "      <th>99</th>\n",
       "      <td>100</td>\n",
       "      <td>주저하는 연인들을 위해</td>\n",
       "      <td>잔나비</td>\n",
       "      <td>전설</td>\n",
       "      <td>https://cdnimg.melon.co.kr/cm/album/images/102...</td>\n",
       "    </tr>\n",
       "  </tbody>\n",
       "</table>\n",
       "</div>"
      ],
      "text/plain": [
       "     순위                제목                  아티스트                  앨범  \\\n",
       "95   96     Better Things                 aespa       Better Things   \n",
       "96   97  That's Hilarious          Charlie Puth             CHARLIE   \n",
       "97   98          In Bloom  ZEROBASEONE (제로베이스원)  YOUTH IN THE SHADE   \n",
       "98   99            TOMBOY               (여자)아이들         I NEVER DIE   \n",
       "99  100      주저하는 연인들을 위해                   잔나비                  전설   \n",
       "\n",
       "                                                  이미지  \n",
       "95  https://cdnimg.melon.co.kr/cm2/album/images/11...  \n",
       "96  https://cdnimg.melon.co.kr/cm2/album/images/10...  \n",
       "97  https://cdnimg.melon.co.kr/cm2/album/images/11...  \n",
       "98  https://cdnimg.melon.co.kr/cm2/album/images/10...  \n",
       "99  https://cdnimg.melon.co.kr/cm/album/images/102...  "
      ]
     },
     "execution_count": 38,
     "metadata": {},
     "output_type": "execute_result"
    }
   ],
   "source": [
    "df.to_csv(f'data/melon_{date_str}.csv', index=False)\n",
    "pd.read_csv(f'data/melon_{date_str}.csv').tail()"
   ]
  },
  {
   "cell_type": "code",
   "execution_count": null,
   "metadata": {},
   "outputs": [],
   "source": []
  },
  {
   "cell_type": "code",
   "execution_count": null,
   "metadata": {},
   "outputs": [],
   "source": []
  },
  {
   "cell_type": "code",
   "execution_count": null,
   "metadata": {},
   "outputs": [],
   "source": []
  }
 ],
 "metadata": {
  "kernelspec": {
   "display_name": "base",
   "language": "python",
   "name": "python3"
  },
  "language_info": {
   "codemirror_mode": {
    "name": "ipython",
    "version": 3
   },
   "file_extension": ".py",
   "mimetype": "text/x-python",
   "name": "python",
   "nbconvert_exporter": "python",
   "pygments_lexer": "ipython3",
   "version": "3.11.4"
  },
  "orig_nbformat": 4
 },
 "nbformat": 4,
 "nbformat_minor": 2
}
